{
 "cells": [
  {
   "cell_type": "markdown",
   "metadata": {},
   "source": [
    "# Job Market Assistant\n"
   ]
  },
  {
   "cell_type": "markdown",
   "metadata": {},
   "source": [
    "## Initialization\n"
   ]
  },
  {
   "cell_type": "code",
   "execution_count": 2,
   "metadata": {},
   "outputs": [
    {
     "name": "stderr",
     "output_type": "stream",
     "text": [
      "/home/vrepetskyi/classes/6/nlp/job-market-assistant/venv/lib/python3.10/site-packages/tqdm/auto.py:21: TqdmWarning: IProgress not found. Please update jupyter and ipywidgets. See https://ipywidgets.readthedocs.io/en/stable/user_install.html\n",
      "  from .autonotebook import tqdm as notebook_tqdm\n"
     ]
    }
   ],
   "source": [
    "import time\n",
    "\n",
    "import pandas as pd\n",
    "from dotenv import load_dotenv\n",
    "from IPython.display import Markdown\n",
    "from linkedin_jobs_scraper.query import Query, QueryOptions\n",
    "\n",
    "from core.job_market_assistant import JobMarketAssistant\n",
    "from core.models import ChatGPT, Gemini, Llama\n",
    "import vertexai\n",
    "from google.oauth2.service_account import Credentials\n",
    "\n",
    "# ChatGPT, Llama\n",
    "load_dotenv()\n",
    "\n",
    "# Gemini\n",
    "credentials = Credentials.from_service_account_file(\"gemini.json\")\n",
    "vertexai.init(\n",
    "    project=\"linkedln-advisor\", location=\"europe-central2\", credentials=credentials\n",
    ")"
   ]
  },
  {
   "cell_type": "markdown",
   "metadata": {},
   "source": [
    "## Framework\n",
    "\n",
    "Our class-based structure allows to encapsulate reused code and perform experiments easily by adding new models and altering the prompts.\n"
   ]
  },
  {
   "cell_type": "markdown",
   "metadata": {},
   "source": [
    "All the models have to implement _complete_ method. With parameter _debug_ set to _True_ all the querying history is visible.\n"
   ]
  },
  {
   "cell_type": "code",
   "execution_count": 5,
   "metadata": {},
   "outputs": [
    {
     "name": "stdout",
     "output_type": "stream",
     "text": [
      ">>> ChatGPT: Hello Chat!\n",
      "ChatGPT >>>: How is everyone?\n",
      "\n",
      "I am a language model AI, so I don't have feelings like humans. But I am always happy to chat and help out with any questions you may have! Is there anything specific you would like to talk about?\n"
     ]
    }
   ],
   "source": [
    "debug_chat_gpt = ChatGPT(True)\n",
    "completion = debug_chat_gpt.complete(\"Hello Chat!\")"
   ]
  },
  {
   "cell_type": "code",
   "execution_count": 4,
   "metadata": {},
   "outputs": [
    {
     "name": "stdout",
     "output_type": "stream",
     "text": [
      ">>> Gemini: Hello Gemini!\n",
      "Gemini >>>: Hello! It's nice to meet you. What would you like to talk about today?\n"
     ]
    }
   ],
   "source": [
    "debug_gemini = Gemini(True)\n",
    "completion = debug_gemini.complete(\"Hello Gemini!\")"
   ]
  },
  {
   "cell_type": "code",
   "execution_count": 5,
   "metadata": {},
   "outputs": [
    {
     "name": "stdout",
     "output_type": "stream",
     "text": [
      ">>> Llama: Hello Llama!\n",
      "Llama >>>: Hello there! It's nice to meet you! Is there something I can help you with or would you like to chat?\n"
     ]
    }
   ],
   "source": [
    "debug_llama = Llama(True)\n",
    "completion = debug_llama.complete(\"Hello Llama!\")"
   ]
  },
  {
   "cell_type": "code",
   "execution_count": 8,
   "metadata": {},
   "outputs": [],
   "source": [
    "chat_gpt = ChatGPT()\n",
    "gemini = Gemini()\n",
    "llama = Llama()"
   ]
  },
  {
   "cell_type": "markdown",
   "metadata": {},
   "source": [
    "The system uses 4 different prompts each serving unique purpose and having a distinct set of available parameters:\n",
    "\n",
    "| Method             | Parameter             | Purpose                                                                      | Parameters                                 |\n",
    "| ------------------ | --------------------- | ---------------------------------------------------------------------------- | ------------------------------------------ |\n",
    "| get_cover_letter   | cover_letter_prompt   | Generate a cover letter based on the job posting and CV.                     | job_title, company, job_desc, location, cv |\n",
    "| get_missing_skills | job_title_prompt      | Generate the desired _job_title_ from the CV unless provided explicitely     | cv                                         |\n",
    "| get_missing_skills | key_points_prompt     | Summarize requirements for a position before feeding them to the next prompt | job_title, company, job_desc, location     |\n",
    "| get_missing_skills | missing_skills_prompt | Identify skill gaps for the job title and return them as a list              | key_points, cv                             |\n"
   ]
  },
  {
   "cell_type": "code",
   "execution_count": 9,
   "metadata": {},
   "outputs": [],
   "source": [
    "job_market_assistant = JobMarketAssistant(\n",
    "    model=chat_gpt,\n",
    "    cover_letter_prompt=\"Write a cover letter for this job. Do not use too long and unnecessarily sophisticated words.\\n\\nMy CV:\\n{cv}\\n\\nJob Posting:\\n{job_desc}\",\n",
    "    job_title_prompt=\"Summarize the job title based on the following CV in maximum 10 words:\\n\\n{cv}\\n\\nProvide only the job title as plain text without any quotes and punctuation.\",\n",
    "    key_points_prompt=\"Job Posting:\\n\\n{job_desc}\\n\\nGenerate key points from these job posting (focus on skils and requirements) sorted from the most important to the least?\",\n",
    "    missing_skills_prompt=\"This is my CV:\\n\\n{cv}\\n\\nReturn me list of skills that I should learn and I don't have in my CV to become more employable for jobs with requirements listed below sorted from the most important to the least. The list has to be in Markdown format. Job postings:\\n\\n\",\n",
    ")"
   ]
  },
  {
   "cell_type": "markdown",
   "metadata": {},
   "source": [
    "## Data sources\n"
   ]
  },
  {
   "cell_type": "markdown",
   "metadata": {},
   "source": [
    "The job postings may be provided directly or scraped from LinkedIn using one of the helper methods.\n"
   ]
  },
  {
   "cell_type": "code",
   "execution_count": 4,
   "metadata": {},
   "outputs": [
    {
     "data": {
      "text/html": [
       "<div>\n",
       "<style scoped>\n",
       "    .dataframe tbody tr th:only-of-type {\n",
       "        vertical-align: middle;\n",
       "    }\n",
       "\n",
       "    .dataframe tbody tr th {\n",
       "        vertical-align: top;\n",
       "    }\n",
       "\n",
       "    .dataframe thead th {\n",
       "        text-align: right;\n",
       "    }\n",
       "</style>\n",
       "<table border=\"1\" class=\"dataframe\">\n",
       "  <thead>\n",
       "    <tr style=\"text-align: right;\">\n",
       "      <th></th>\n",
       "      <th>job_title</th>\n",
       "      <th>company</th>\n",
       "      <th>job_desc</th>\n",
       "      <th>location</th>\n",
       "    </tr>\n",
       "  </thead>\n",
       "  <tbody>\n",
       "    <tr>\n",
       "      <th>39</th>\n",
       "      <td>Applied Data Scientist</td>\n",
       "      <td>dunnhumby</td>\n",
       "      <td>dunnhumby is the global leader in Customer Dat...</td>\n",
       "      <td>London, England, United Kingdom</td>\n",
       "    </tr>\n",
       "    <tr>\n",
       "      <th>47</th>\n",
       "      <td>Data Scientist</td>\n",
       "      <td>Builder.ai</td>\n",
       "      <td>Description\\n\\nAbout Builder.ai\\n\\nWe’re on a ...</td>\n",
       "      <td>London, England, United Kingdom</td>\n",
       "    </tr>\n",
       "    <tr>\n",
       "      <th>267</th>\n",
       "      <td>Machine Learning Engineer - ML Ops</td>\n",
       "      <td>Builder.ai</td>\n",
       "      <td>Description\\n\\nAbout Builder.ai\\n\\nWe’re on a ...</td>\n",
       "      <td>London, England, United Kingdom</td>\n",
       "    </tr>\n",
       "    <tr>\n",
       "      <th>147</th>\n",
       "      <td>Software Development Engineer, Caching</td>\n",
       "      <td>myGwork - LGBTQ+ Business Community</td>\n",
       "      <td>This inclusive employer is a member of myGwork...</td>\n",
       "      <td>Dublin, County Dublin, Ireland</td>\n",
       "    </tr>\n",
       "    <tr>\n",
       "      <th>265</th>\n",
       "      <td>Machine Learning Engineer</td>\n",
       "      <td>Stackfix</td>\n",
       "      <td>About Us\\n\\nAt Stackfix, we’re transforming ho...</td>\n",
       "      <td>London, England, United Kingdom</td>\n",
       "    </tr>\n",
       "    <tr>\n",
       "      <th>...</th>\n",
       "      <td>...</td>\n",
       "      <td>...</td>\n",
       "      <td>...</td>\n",
       "      <td>...</td>\n",
       "    </tr>\n",
       "    <tr>\n",
       "      <th>183</th>\n",
       "      <td>Sales Business Analyst</td>\n",
       "      <td>Aer Lingus</td>\n",
       "      <td>Your role\\n\\nAre you ready to make a significa...</td>\n",
       "      <td>Dublin, County Dublin, Ireland</td>\n",
       "    </tr>\n",
       "    <tr>\n",
       "      <th>20</th>\n",
       "      <td>Software Development Engineer, AWS Security Se...</td>\n",
       "      <td>myGwork - LGBTQ+ Business Community</td>\n",
       "      <td>This inclusive employer is a member of myGwork...</td>\n",
       "      <td>Dublin, County Dublin, Ireland</td>\n",
       "    </tr>\n",
       "    <tr>\n",
       "      <th>81</th>\n",
       "      <td>Application &amp; Service Engineer</td>\n",
       "      <td>Altus Group Ltd</td>\n",
       "      <td>I am pleased to announce that we are looking f...</td>\n",
       "      <td>Cork, County Cork, Ireland</td>\n",
       "    </tr>\n",
       "    <tr>\n",
       "      <th>327</th>\n",
       "      <td>Graduate Data Scientist</td>\n",
       "      <td>Worldpanel by Kantar</td>\n",
       "      <td>We’re the world’s leading data, insights, and ...</td>\n",
       "      <td>Greater London, England, United Kingdom</td>\n",
       "    </tr>\n",
       "    <tr>\n",
       "      <th>158</th>\n",
       "      <td>Data Engineer</td>\n",
       "      <td>ADLIB Recruitment | B Corp™</td>\n",
       "      <td>Be part of a unique team, bridging commercial ...</td>\n",
       "      <td>Bristol, England, United Kingdom</td>\n",
       "    </tr>\n",
       "  </tbody>\n",
       "</table>\n",
       "<p>100 rows × 4 columns</p>\n",
       "</div>"
      ],
      "text/plain": [
       "                                             job_title  \\\n",
       "39                              Applied Data Scientist   \n",
       "47                                      Data Scientist   \n",
       "267                 Machine Learning Engineer - ML Ops   \n",
       "147             Software Development Engineer, Caching   \n",
       "265                          Machine Learning Engineer   \n",
       "..                                                 ...   \n",
       "183                             Sales Business Analyst   \n",
       "20   Software Development Engineer, AWS Security Se...   \n",
       "81                      Application & Service Engineer   \n",
       "327                            Graduate Data Scientist   \n",
       "158                                      Data Engineer   \n",
       "\n",
       "                                 company  \\\n",
       "39                             dunnhumby   \n",
       "47                            Builder.ai   \n",
       "267                           Builder.ai   \n",
       "147  myGwork - LGBTQ+ Business Community   \n",
       "265                             Stackfix   \n",
       "..                                   ...   \n",
       "183                           Aer Lingus   \n",
       "20   myGwork - LGBTQ+ Business Community   \n",
       "81                       Altus Group Ltd   \n",
       "327                 Worldpanel by Kantar   \n",
       "158          ADLIB Recruitment | B Corp™   \n",
       "\n",
       "                                              job_desc  \\\n",
       "39   dunnhumby is the global leader in Customer Dat...   \n",
       "47   Description\\n\\nAbout Builder.ai\\n\\nWe’re on a ...   \n",
       "267  Description\\n\\nAbout Builder.ai\\n\\nWe’re on a ...   \n",
       "147  This inclusive employer is a member of myGwork...   \n",
       "265  About Us\\n\\nAt Stackfix, we’re transforming ho...   \n",
       "..                                                 ...   \n",
       "183  Your role\\n\\nAre you ready to make a significa...   \n",
       "20   This inclusive employer is a member of myGwork...   \n",
       "81   I am pleased to announce that we are looking f...   \n",
       "327  We’re the world’s leading data, insights, and ...   \n",
       "158  Be part of a unique team, bridging commercial ...   \n",
       "\n",
       "                                    location  \n",
       "39           London, England, United Kingdom  \n",
       "47           London, England, United Kingdom  \n",
       "267          London, England, United Kingdom  \n",
       "147           Dublin, County Dublin, Ireland  \n",
       "265          London, England, United Kingdom  \n",
       "..                                       ...  \n",
       "183           Dublin, County Dublin, Ireland  \n",
       "20            Dublin, County Dublin, Ireland  \n",
       "81                Cork, County Cork, Ireland  \n",
       "327  Greater London, England, United Kingdom  \n",
       "158         Bristol, England, United Kingdom  \n",
       "\n",
       "[100 rows x 4 columns]"
      ]
     },
     "execution_count": 4,
     "metadata": {},
     "output_type": "execute_result"
    }
   ],
   "source": [
    "file_job_postings = pd.read_feather(\"data/job_postings.feather\")\n",
    "file_job_postings"
   ]
  },
  {
   "cell_type": "code",
   "execution_count": 5,
   "metadata": {},
   "outputs": [
    {
     "data": {
      "text/html": [
       "<div>\n",
       "<style scoped>\n",
       "    .dataframe tbody tr th:only-of-type {\n",
       "        vertical-align: middle;\n",
       "    }\n",
       "\n",
       "    .dataframe tbody tr th {\n",
       "        vertical-align: top;\n",
       "    }\n",
       "\n",
       "    .dataframe thead th {\n",
       "        text-align: right;\n",
       "    }\n",
       "</style>\n",
       "<table border=\"1\" class=\"dataframe\">\n",
       "  <thead>\n",
       "    <tr style=\"text-align: right;\">\n",
       "      <th></th>\n",
       "      <th>job_title</th>\n",
       "      <th>company</th>\n",
       "      <th>job_desc</th>\n",
       "      <th>location</th>\n",
       "    </tr>\n",
       "  </thead>\n",
       "  <tbody>\n",
       "    <tr>\n",
       "      <th>0</th>\n",
       "      <td>Machine Learning Engineer</td>\n",
       "      <td>Ampstek</td>\n",
       "      <td>Hi Professionals,Greetings From Ampstek!!Hope ...</td>\n",
       "      <td>Poland</td>\n",
       "    </tr>\n",
       "    <tr>\n",
       "      <th>1</th>\n",
       "      <td>Machine Learning Consultant</td>\n",
       "      <td>Antdata</td>\n",
       "      <td>Antdata is a data analytics company that focus...</td>\n",
       "      <td>Poznań, Wielkopolskie, Poland</td>\n",
       "    </tr>\n",
       "    <tr>\n",
       "      <th>2</th>\n",
       "      <td>Senior Data Scientist with Python and ML</td>\n",
       "      <td>Luxoft Poland</td>\n",
       "      <td>Project descriptionSuccessful candidate will b...</td>\n",
       "      <td>Poland</td>\n",
       "    </tr>\n",
       "    <tr>\n",
       "      <th>3</th>\n",
       "      <td>Senior Artificial Intelligence Engineer</td>\n",
       "      <td>Tangent</td>\n",
       "      <td>About TangentAt Tangent, we partner with large...</td>\n",
       "      <td>Poznań, Wielkopolskie, Poland</td>\n",
       "    </tr>\n",
       "    <tr>\n",
       "      <th>4</th>\n",
       "      <td>Machine Learning Researcher</td>\n",
       "      <td>RTB House</td>\n",
       "      <td>RTB House owes its market position to an advan...</td>\n",
       "      <td>Warsaw, Mazowieckie, Poland</td>\n",
       "    </tr>\n",
       "    <tr>\n",
       "      <th>5</th>\n",
       "      <td>AI Engineer</td>\n",
       "      <td>Opera</td>\n",
       "      <td>Location: Wrocław, PolandAbout the job We are ...</td>\n",
       "      <td>Wrocław, Dolnośląskie, Poland</td>\n",
       "    </tr>\n",
       "    <tr>\n",
       "      <th>6</th>\n",
       "      <td>AI Developer with Python</td>\n",
       "      <td>Rockwell Automation</td>\n",
       "      <td>Rockwell Automation is a global technology lea...</td>\n",
       "      <td>Katowice, Śląskie, Poland</td>\n",
       "    </tr>\n",
       "    <tr>\n",
       "      <th>7</th>\n",
       "      <td>Machine Learning Engineer</td>\n",
       "      <td>Devoteam G Cloud</td>\n",
       "      <td>Company DescriptionDevoteam, a group of 8000+ ...</td>\n",
       "      <td>Warsaw, Mazowieckie, Poland</td>\n",
       "    </tr>\n",
       "    <tr>\n",
       "      <th>8</th>\n",
       "      <td>Generative AI Engineer</td>\n",
       "      <td>Seargin</td>\n",
       "      <td>As a dynamic multinational tech company operat...</td>\n",
       "      <td>Poland</td>\n",
       "    </tr>\n",
       "    <tr>\n",
       "      <th>9</th>\n",
       "      <td>AIMl GenAI Manager</td>\n",
       "      <td>EY</td>\n",
       "      <td>AIML GenAI ManagerLet us introduce you the job...</td>\n",
       "      <td>Wrocław, Dolnośląskie, Poland</td>\n",
       "    </tr>\n",
       "  </tbody>\n",
       "</table>\n",
       "</div>"
      ],
      "text/plain": [
       "                                  job_title              company  \\\n",
       "0                 Machine Learning Engineer              Ampstek   \n",
       "1               Machine Learning Consultant              Antdata   \n",
       "2  Senior Data Scientist with Python and ML        Luxoft Poland   \n",
       "3   Senior Artificial Intelligence Engineer              Tangent   \n",
       "4               Machine Learning Researcher            RTB House   \n",
       "5                               AI Engineer                Opera   \n",
       "6                  AI Developer with Python  Rockwell Automation   \n",
       "7                 Machine Learning Engineer     Devoteam G Cloud   \n",
       "8                    Generative AI Engineer              Seargin   \n",
       "9                        AIMl GenAI Manager                   EY   \n",
       "\n",
       "                                            job_desc  \\\n",
       "0  Hi Professionals,Greetings From Ampstek!!Hope ...   \n",
       "1  Antdata is a data analytics company that focus...   \n",
       "2  Project descriptionSuccessful candidate will b...   \n",
       "3  About TangentAt Tangent, we partner with large...   \n",
       "4  RTB House owes its market position to an advan...   \n",
       "5  Location: Wrocław, PolandAbout the job We are ...   \n",
       "6  Rockwell Automation is a global technology lea...   \n",
       "7  Company DescriptionDevoteam, a group of 8000+ ...   \n",
       "8  As a dynamic multinational tech company operat...   \n",
       "9  AIML GenAI ManagerLet us introduce you the job...   \n",
       "\n",
       "                        location  \n",
       "0                         Poland  \n",
       "1  Poznań, Wielkopolskie, Poland  \n",
       "2                         Poland  \n",
       "3  Poznań, Wielkopolskie, Poland  \n",
       "4    Warsaw, Mazowieckie, Poland  \n",
       "5  Wrocław, Dolnośląskie, Poland  \n",
       "6      Katowice, Śląskie, Poland  \n",
       "7    Warsaw, Mazowieckie, Poland  \n",
       "8                         Poland  \n",
       "9  Wrocław, Dolnośląskie, Poland  "
      ]
     },
     "execution_count": 5,
     "metadata": {},
     "output_type": "execute_result"
    }
   ],
   "source": [
    "url_job_postings = JobMarketAssistant.scrap_urls(\n",
    "    (\n",
    "        \"https://www.linkedin.com/jobs/view/3937215366/?alternateChannel=search&refId=pyO8PX6NFy5hyGNWQ5uRxQ%3D%3D&trackingId=aNQSGBRWWobujlSYEpbvaQ%3D%3D\",\n",
    "        \"https://www.linkedin.com/jobs/view/3931218091/?alternateChannel=search&refId=%2BwGMIZDUEBj8w%2BcBBmKX0g%3D%3D&trackingId=MKGRxpSmYvT7yYfc0vnezg%3D%3D\",\n",
    "        \"https://www.linkedin.com/jobs/view/3939354205/?alternateChannel=search&refId=jzm6ENFRWaolwGXJgicMTw%3D%3D&trackingId=Ryft9wMmyemu5LZP3YMVkQ%3D%3D&trk=d_flagship3_search_srp_jobs\",\n",
    "        \"https://www.linkedin.com/jobs/view/3933974972/?alternateChannel=search&refId=jzm6ENFRWaolwGXJgicMTw%3D%3D&trackingId=Nf75Lj8H45f%2F3Wn0YZWGow%3D%3D&trk=d_flagship3_search_srp_jobs\",\n",
    "        \"https://www.linkedin.com/jobs/view/3706100131/?eBP=CwEAAAGP2nLSS1cVH9CpQXLJCQYoBELJe_DMnb_FF0wnPFmYKZ8RevBvThpD_ekhE_mtBIX8fy5hK5ayxs7uQI8M551BR4OaZ0Vk6wIa_yi-E6P_orjzE4PKlU6nMCHwWnQoskuS4a0jCI8057qk3wYLKiI8pZ_mITVGGc_tOrpA5WVKMj_Zeoa44P2nxT1vJ1KUFmyeIiSBOAnIdhZu4fTCqmELBiPkEAD5eKftXGAuDr3pbYOWdt3TZ9lCMf-xY0rQGFaYih57c03_fADVuhjZygq2VkyoJpNIwGj_5INh7nT_fjMLCs_1POakqPL3o3-H7t2RAdFyjMtjYZ0D3_2500LfftGIcnS0Rrjl9Xss1xgu1HcRoGWs-Yx0hkoolePWe-KCNgbczGhVVMQkW3TEwVYwNmq-5ucGIuEvbNhqYo9H2th1MA7NLumAVxtEIWH6IK8TLe7JiAhf8VBblyQm2RgHaZTO&refId=ejemPX0qrd8qnaCrjBlNWw%3D%3D&trackingId=nRFdwwj3o5%2B%2B7KFMCCFo1w%3D%3D&trk=flagship3_search_srp_jobs\",\n",
    "        \"https://www.linkedin.com/jobs/view/3926449844/?eBP=CwEAAAGP2nOgU8_sfnyPI_cLUth9VbgP3dIs3RClQtIwUPjlvFsnHuQAiIaEqWo-DXN0PMr8OSoQIj3obkACHeuwBugF67GnD_Z_IL8WkR2I8yAYJM3taMePkxBmPwI2zsd6facjFtS8XDaha22A0tXYebVPQscG8pvSd5vZSzyVY3r4GN9iBpOrZsgnD6Ql3f-o0NpW4H_Ea-GRZoVD5abwhA_FkiQjPW1_JL_b-MXYWhVlPXImXCYdh2s86zuIfyhmxYCto6nfZoLqgBGfNGa_g5NXMP7cF4tj57CaZxE2Bm22qe_vCdTfkUoiwWNVUa3rSEEtzB49dimLquOca5B2-Sa8IsYSJFTcpWw4GOInhexoSnI-Uawuu1AH_BBLQ-NqGXSAmpoIpbQKtCSID8PnSgUTJx_k4htjYF7FrG7ciSLAhVULZSLkCQ-UNYj9ubHhOzjuGpE1zvNnNKflzOLkmpXUiMg5USw&refId=NB7IjF%2F4NI3gjXiPX1PlkQ%3D%3D&trackingId=D9AGbek05Cnb7pxMYxiqpg%3D%3D&trk=flagship3_search_srp_jobs\",\n",
    "        \"https://www.linkedin.com/jobs/view/3904363506/?eBP=CwEAAAGP2nOgU4zBnhBLcSx9mV0FYGVGgNyQ1sxXETXxVxPVFk53FLqXR9gH9f4U2Nqac6fmAWSBzAAnCbbBO-YY8F0YdhOwtuIQY01HY_W4sWI49I8PJP6pBSKCHPSDOj4lmCGZlDuy8LguqiBqKKAvNjUMPRw6yWT83z-Xo4YwNA62ju020hTZ-YFlK-WATuOZGhVoK0iwbySo89vy-cf2j5ZP7vpLrArpWUtzjNrGCItD_qOoCubYiF_93A_axtk8RkbmwmTIxL7AOl5Ql_veoGeNXdfdiw5wDLiGZBwp1lxvOIFiC_X7655cFQqm5jhB8p7jg8bRSYKSwbawikJntoTMDxs6TpvqjYHnbsT9xKaaPOpgDes3A4U3JONRtNa5S9y_-C3v9QWMC1DwwuPAqcETf7Llf47r4Npo-dxM17YgHj3FQicUzkI8wYSKpmzU0uK44dASHScYXwN5TWVX3pZxqEprZNY&refId=NB7IjF%2F4NI3gjXiPX1PlkQ%3D%3D&trackingId=vI35XF233bfRnGy6BAE%2FSQ%3D%3D&trk=flagship3_search_srp_jobs\",\n",
    "        \"https://www.linkedin.com/jobs/view/3910213820/?eBP=CwEAAAGP2nOgU4o3HMYGtDJlo8CcLUUFwd-jc9D9_hbJ5mLrtYZcutRbb5mRXvtMJ1Ig92XZ0FOxY5SkMcrAfg3VK1tY1JObDFpgTe_y9Y7iNKbX94lMzuYnYBJn21Eeymf77lmdICyU6QH-yPQbdcf33E72AC_xt7EBxnpOv9M0sGXqJc11puvSVQGbXpW5W5Sbbsv6QTzs9FxlovRKu6pEPDCCVzjrHrC9d_gOylePjmUOnabDFkppFa3gbB8zh_il2KSTYB_lhCtl1Kxi-5y0NcsECFB5OR5KFUr0npWo7btVAewY5QBeyUFcbcX2O9pXjVdImXT40xQBaQbIUbZXEZeSEaFroWyIc-kB8FzaKMlLmIK5ezXmgfdGx_f10lWV_9xSFVlvaWI1MeG5adcsO0fTM2fY0ucITXYFS2qbispOnegSv3cS_p4WqGTNkLxg_Nxjr8ppKq8HMMZud8dppz5Izp2lOyg&refId=NB7IjF%2F4NI3gjXiPX1PlkQ%3D%3D&trackingId=1OHZffvErAg6ayGGSMaGSQ%3D%3D&trk=flagship3_search_srp_jobs\",\n",
    "        \"https://www.linkedin.com/jobs/view/3934612685/?eBP=CwEAAAGP2nOgUxurolZNvR-9t8O15gg8Hg73vyxdiM7INtIvQbruj1Lad7exeumIa4mrXe73RR3QJ3t-RkVakkFZqmPBu1QNpw4oyXWLO0A0d7RG_uAQJ0YJCdq34tT2c50_4HPgem5RvZ0Q_KcjsPUZuVDkiy0i5xxjusB-K9fzpJ1kHeoLJVsY4-Hdgjrd8hdvpQ6XwtPErHWtPsHmaBPgMvJfGw22Nu_SW6Or4WeOmLmaBroXMpeJGuVz7UqETkN7ro6h77j_Rsi25h8wYeL7S-NY6zlt5HCltq-cIXuFW_kpQ_FXPqHvnKuXkKpKchCBqgCSa3AUTCEaNF60I50pHS9xNHnhro0RaMODYkEAB1YhKBDLW_JY_qWIORfrs48oEWG5HCt_yCwEQCzO6ydupfJkjLOgCjEpOc3wFSMK6knh7yySP4zbSOArdmbPkMsaTTvgFHCG3loj9FRN49Dbrl5RFd1C3rg&refId=NB7IjF%2F4NI3gjXiPX1PlkQ%3D%3D&trackingId=xDb049gA1gGIWmWSmZ6jfg%3D%3D&trk=flagship3_search_srp_jobs\",\n",
    "        \"https://www.linkedin.com/jobs/view/3903916300/?eBP=CwEAAAGP2nWWOL08uhH7U-M5C0J0CphPf6gFN4SMMBAXxYf-YdOwMoRtXj0UBwSmzeTRcrgSE8fpf7yZ0xy0_rHcDoJxAtbx85i8FJ3WTzcEZNK18GYnCtNn8U_b7hhNTFgf3gJzXUEOtrn8L_uuthw7xG5LbY9Oro9myJvJKd2bZ84weNcA4EgTLVJ45AFVin1GecDXOkbJgXKf6pvqpQbBy_Fe8gxbM_A3ZJT6JrXKURhLempoczh7uTTM25y9ybmBJqnm7YjLTGRMy7DwoNIY6oZnVHWY_i04y5MPCDcGOVhn9bALuQ6s1XKZ6AsjEKbT3ytRKd2Q0LZnr7RSkfbk4LNYPtjKgQsVclC8Gao4t6-R76JebQn3GH65RNJr3zxogrDJk4OglgcaeasAou45tdfpBEj4l30DyYWUXcYqxNfsQxDlPaLGqEg30XR9bwKc8Kr57RFZ_16v5SccL6vYQoPO2g&refId=eGb0QUUekOjgqRmAiPqWmQ%3D%3D&trackingId=WfffkrTIdiq6gzEV2lzO5w%3D%3D&trk=flagship3_search_srp_jobs\",\n",
    "    )\n",
    ")\n",
    "url_job_postings"
   ]
  },
  {
   "cell_type": "code",
   "execution_count": 6,
   "metadata": {},
   "outputs": [],
   "source": [
    "query_job_postings = JobMarketAssistant.scrap_query(\n",
    "    (Query(\"ML Engineer\", options=QueryOptions(limit=5, locations=(\"Poland\"))))\n",
    ")\n",
    "query_job_postings"
   ]
  },
  {
   "cell_type": "markdown",
   "metadata": {},
   "source": [
    "CVs have to be provided as plain text. The desired *job_title* will be generated from the CV if not provided explicitely to the *get_missing_skills* method."
   ]
  },
  {
   "cell_type": "code",
   "execution_count": 11,
   "metadata": {},
   "outputs": [],
   "source": [
    "cv_1 = None\n",
    "with open(\"data/cv_1.txt\", \"r\") as file:\n",
    "    cv_1 = file.read()\n",
    "\n",
    "cv_2 = None\n",
    "with open(\"data/cv_3.txt\", \"r\") as file:\n",
    "    cv_2 = file.read()\n",
    "\n",
    "cv_3 = None\n",
    "with open(\"data/cv_3.txt\", \"r\") as file:\n",
    "    cv_3 = file.read()"
   ]
  },
  {
   "cell_type": "markdown",
   "metadata": {},
   "source": [
    "## Exemplary usage\n"
   ]
  },
  {
   "cell_type": "code",
   "execution_count": 7,
   "metadata": {},
   "outputs": [
    {
     "data": {
      "text/markdown": [
       "### Cover letter for Applied Data Scientist at dunnhumby:\n",
       "[Your Name]\n",
       "[Address]\n",
       "[City, State ZIP Code]\n",
       "[Email Address]\n",
       "[Today’s Date]\n",
       "\n",
       "[Employer’s Name]\n",
       "[Company Name]\n",
       "[Address]\n",
       "[City, State ZIP Code]\n",
       "\n",
       "Dear Hiring Manager,\n",
       "\n",
       "I am excited to apply for the Applied Data Scientist position at dunnhumby, as advertised on [where you found the job posting]. With my educational background in Artificial Intelligence and Finance, combined with my experience as a C++ Developer and Cook, I believe I am a strong candidate for this role.\n",
       "\n",
       "I am currently in my final year of Artificial Intelligence and have taken various courses such as Data Visualization, NLP, ML, DL, BigData, Information Retrieval, Computer Vision, and Data Mining. These courses have equipped me with the necessary skills to become an Applied Data Scientist. Additionally, I am a member of GHOST, an academic circle focused on AI/ML, and I am currently part of the section organizing the GHOST conference about ML.\n",
       "\n",
       "In my current role as a C++ Developer at CAD Projekt, I have gained experience in programming languages such as Python, C++, SQL, R, and Java, which are required for this position. I have also developed strong analytical techniques and a passion for connecting my work directly to the customer experience, making a real and tangible impact. My logical thinking and problem-solving skills, along with excellent communication skills, have enabled me to successfully work on complex applications and components in a team environment.\n",
       "\n",
       "One of the things that caught my attention in the job posting was the company's focus on diversity and inclusion. I strongly believe in creating an inclusive culture where everyone has equal opportunities to thrive, and I am eager to contribute to this at dunnhumby.\n",
       "\n",
       "As a person who values a work-life balance, I appreciate the company's approach to flexible working hours and thoughtful perks such as flexible working hours and your birthday off. I feel that this will create an environment where employees can perform their best and contribute to the company's success.\n",
       "\n",
       "I am excited about the opportunity to work with cutting-edge technology at dunnhumby, and I am confident that my skills and experience make me a strong fit for this role. I am eager to learn and contribute to the company's mission of enabling businesses to grow and reimagine themselves by becoming advocates and champions for their Customers.\n",
       "\n",
       "Thank you for considering my application. I have attached my resume for your review, and I look forward to the opportunity to discuss further my qualifications and how I can contribute to dunnhumby. Please"
      ],
      "text/plain": [
       "<IPython.core.display.Markdown object>"
      ]
     },
     "metadata": {},
     "output_type": "display_data"
    }
   ],
   "source": [
    "cover_letter = job_market_assistant.get_cover_letter(file_job_postings.iloc[0], cv_1)"
   ]
  },
  {
   "cell_type": "code",
   "execution_count": 8,
   "metadata": {},
   "outputs": [
    {
     "name": "stderr",
     "output_type": "stream",
     "text": [
      "/home/vrepetskyi/classes/6/nlp/job-market-assistant/venv/lib/python3.10/site-packages/huggingface_hub/file_download.py:1132: FutureWarning: `resume_download` is deprecated and will be removed in version 1.0.0. Downloads always resume when possible. If you want to force a new download, use `force_download=True`.\n",
      "  warnings.warn(\n"
     ]
    },
    {
     "data": {
      "text/markdown": [
       "### Postings best matching job title Computer Engineer and Data Science Student (derived from the CV)"
      ],
      "text/plain": [
       "<IPython.core.display.Markdown object>"
      ]
     },
     "metadata": {},
     "output_type": "display_data"
    },
    {
     "data": {
      "text/html": [
       "<div>\n",
       "<style scoped>\n",
       "    .dataframe tbody tr th:only-of-type {\n",
       "        vertical-align: middle;\n",
       "    }\n",
       "\n",
       "    .dataframe tbody tr th {\n",
       "        vertical-align: top;\n",
       "    }\n",
       "\n",
       "    .dataframe thead th {\n",
       "        text-align: right;\n",
       "    }\n",
       "</style>\n",
       "<table border=\"1\" class=\"dataframe\">\n",
       "  <thead>\n",
       "    <tr style=\"text-align: right;\">\n",
       "      <th></th>\n",
       "      <th>job_title</th>\n",
       "      <th>company</th>\n",
       "      <th>job_desc</th>\n",
       "      <th>location</th>\n",
       "      <th>score</th>\n",
       "    </tr>\n",
       "  </thead>\n",
       "  <tbody>\n",
       "    <tr>\n",
       "      <th>0</th>\n",
       "      <td>Graduate Data Engineer</td>\n",
       "      <td>Oho Group Ltd</td>\n",
       "      <td>Graduate Data Engineer - Fast Growing FinTech\\...</td>\n",
       "      <td>London Area, United Kingdom</td>\n",
       "      <td>0.728353</td>\n",
       "    </tr>\n",
       "    <tr>\n",
       "      <th>1</th>\n",
       "      <td>Data Scientist, People &amp; Culture</td>\n",
       "      <td>Lifelancer</td>\n",
       "      <td>We are ideally looking for a candidate in the ...</td>\n",
       "      <td>London, England, United Kingdom</td>\n",
       "      <td>0.717228</td>\n",
       "    </tr>\n",
       "    <tr>\n",
       "      <th>2</th>\n",
       "      <td>Data Scientist</td>\n",
       "      <td>Tilt</td>\n",
       "      <td>Mission\\n\\nAt TILT, we’re pioneering the futur...</td>\n",
       "      <td>London, England, United Kingdom</td>\n",
       "      <td>0.712310</td>\n",
       "    </tr>\n",
       "    <tr>\n",
       "      <th>3</th>\n",
       "      <td>Data Engineer</td>\n",
       "      <td>ADLIB Recruitment | B Corp™</td>\n",
       "      <td>Be part of a unique team, bridging commercial ...</td>\n",
       "      <td>Bristol, England, United Kingdom</td>\n",
       "      <td>0.712009</td>\n",
       "    </tr>\n",
       "    <tr>\n",
       "      <th>4</th>\n",
       "      <td>Data Engineer</td>\n",
       "      <td>Adria Solutions Ltd</td>\n",
       "      <td>We are seeking a Data Engineer to join our fri...</td>\n",
       "      <td>Manchester, England, United Kingdom</td>\n",
       "      <td>0.711317</td>\n",
       "    </tr>\n",
       "    <tr>\n",
       "      <th>5</th>\n",
       "      <td>Machine Learning Engineer</td>\n",
       "      <td>myGwork - LGBTQ+ Business Community</td>\n",
       "      <td>This inclusive employer is a member of myGwork...</td>\n",
       "      <td>London, England, United Kingdom</td>\n",
       "      <td>0.709216</td>\n",
       "    </tr>\n",
       "    <tr>\n",
       "      <th>6</th>\n",
       "      <td>Graduate Machine Learning Engineer</td>\n",
       "      <td>Mercedes-AMG PETRONAS Formula One Team</td>\n",
       "      <td>Brackley, UK\\n\\nWe have an exciting opening fo...</td>\n",
       "      <td>Brackley, England, United Kingdom</td>\n",
       "      <td>0.702707</td>\n",
       "    </tr>\n",
       "    <tr>\n",
       "      <th>7</th>\n",
       "      <td>Analytics Engineer</td>\n",
       "      <td>Mars</td>\n",
       "      <td>Job Description\\n\\nThe Analytics Engineer at M...</td>\n",
       "      <td>London, England, United Kingdom</td>\n",
       "      <td>0.702397</td>\n",
       "    </tr>\n",
       "    <tr>\n",
       "      <th>8</th>\n",
       "      <td>Data Scientist ( Hybrid)</td>\n",
       "      <td>myGwork - LGBTQ+ Business Community</td>\n",
       "      <td>This inclusive employer is a member of myGwork...</td>\n",
       "      <td>Dublin, County Dublin, Ireland</td>\n",
       "      <td>0.700871</td>\n",
       "    </tr>\n",
       "    <tr>\n",
       "      <th>9</th>\n",
       "      <td>Data Engineer</td>\n",
       "      <td>ecocareers</td>\n",
       "      <td>DATA ENGINEER LONDON HYBRID - 3 DAYS IN THE OF...</td>\n",
       "      <td>London, England, United Kingdom</td>\n",
       "      <td>0.698267</td>\n",
       "    </tr>\n",
       "  </tbody>\n",
       "</table>\n",
       "</div>"
      ],
      "text/plain": [
       "                            job_title                                 company  \\\n",
       "0              Graduate Data Engineer                           Oho Group Ltd   \n",
       "1    Data Scientist, People & Culture                              Lifelancer   \n",
       "2                      Data Scientist                                    Tilt   \n",
       "3                       Data Engineer             ADLIB Recruitment | B Corp™   \n",
       "4                       Data Engineer                     Adria Solutions Ltd   \n",
       "5           Machine Learning Engineer     myGwork - LGBTQ+ Business Community   \n",
       "6  Graduate Machine Learning Engineer  Mercedes-AMG PETRONAS Formula One Team   \n",
       "7                  Analytics Engineer                                    Mars   \n",
       "8            Data Scientist ( Hybrid)     myGwork - LGBTQ+ Business Community   \n",
       "9                       Data Engineer                              ecocareers   \n",
       "\n",
       "                                            job_desc  \\\n",
       "0  Graduate Data Engineer - Fast Growing FinTech\\...   \n",
       "1  We are ideally looking for a candidate in the ...   \n",
       "2  Mission\\n\\nAt TILT, we’re pioneering the futur...   \n",
       "3  Be part of a unique team, bridging commercial ...   \n",
       "4  We are seeking a Data Engineer to join our fri...   \n",
       "5  This inclusive employer is a member of myGwork...   \n",
       "6  Brackley, UK\\n\\nWe have an exciting opening fo...   \n",
       "7  Job Description\\n\\nThe Analytics Engineer at M...   \n",
       "8  This inclusive employer is a member of myGwork...   \n",
       "9  DATA ENGINEER LONDON HYBRID - 3 DAYS IN THE OF...   \n",
       "\n",
       "                              location     score  \n",
       "0          London Area, United Kingdom  0.728353  \n",
       "1      London, England, United Kingdom  0.717228  \n",
       "2      London, England, United Kingdom  0.712310  \n",
       "3     Bristol, England, United Kingdom  0.712009  \n",
       "4  Manchester, England, United Kingdom  0.711317  \n",
       "5      London, England, United Kingdom  0.709216  \n",
       "6    Brackley, England, United Kingdom  0.702707  \n",
       "7      London, England, United Kingdom  0.702397  \n",
       "8       Dublin, County Dublin, Ireland  0.700871  \n",
       "9      London, England, United Kingdom  0.698267  "
      ]
     },
     "metadata": {},
     "output_type": "display_data"
    },
    {
     "data": {
      "text/markdown": [
       "### Missing skills:\n",
       "1. Experience with cloud computing platforms (e.g. AWS, Google Cloud Platform)\n",
       "2. Containerization and orchestration (e.g. Docker, Kubernetes)\n",
       "3. Web development (e.g. JavaScript, HTML, CSS)\n",
       "4. Data visualization (e.g. Tableau, Power BI)\n",
       "5. Database design and management\n",
       "6. Agile development\n",
       "7. Version control systems (e.g. Git)\n",
       "8. Natural language processing (NLP)\n",
       "9. Deep learning frameworks (e.g. TensorFlow, PyTorch)\n",
       "10. Software engineering principles/best practices"
      ],
      "text/plain": [
       "<IPython.core.display.Markdown object>"
      ]
     },
     "metadata": {},
     "output_type": "display_data"
    }
   ],
   "source": [
    "missing_skills = job_market_assistant.get_missing_skills(url_job_postings, cv_2)"
   ]
  },
  {
   "cell_type": "code",
   "execution_count": 11,
   "metadata": {},
   "outputs": [
    {
     "name": "stderr",
     "output_type": "stream",
     "text": [
      "/home/vrepetskyi/classes/6/nlp/job-market-assistant/venv/lib/python3.10/site-packages/huggingface_hub/file_download.py:1132: FutureWarning: `resume_download` is deprecated and will be removed in version 1.0.0. Downloads always resume when possible. If you want to force a new download, use `force_download=True`.\n",
      "  warnings.warn(\n"
     ]
    },
    {
     "data": {
      "text/markdown": [
       "### Postings best matching job title Azure Data Mining Engineer"
      ],
      "text/plain": [
       "<IPython.core.display.Markdown object>"
      ]
     },
     "metadata": {},
     "output_type": "display_data"
    },
    {
     "data": {
      "text/html": [
       "<div>\n",
       "<style scoped>\n",
       "    .dataframe tbody tr th:only-of-type {\n",
       "        vertical-align: middle;\n",
       "    }\n",
       "\n",
       "    .dataframe tbody tr th {\n",
       "        vertical-align: top;\n",
       "    }\n",
       "\n",
       "    .dataframe thead th {\n",
       "        text-align: right;\n",
       "    }\n",
       "</style>\n",
       "<table border=\"1\" class=\"dataframe\">\n",
       "  <thead>\n",
       "    <tr style=\"text-align: right;\">\n",
       "      <th></th>\n",
       "      <th>job_title</th>\n",
       "      <th>company</th>\n",
       "      <th>job_desc</th>\n",
       "      <th>location</th>\n",
       "      <th>score</th>\n",
       "    </tr>\n",
       "  </thead>\n",
       "  <tbody>\n",
       "    <tr>\n",
       "      <th>0</th>\n",
       "      <td>Machine Learning Engineer</td>\n",
       "      <td>myGwork - LGBTQ+ Business Community</td>\n",
       "      <td>This inclusive employer is a member of myGwork...</td>\n",
       "      <td>London, England, United Kingdom</td>\n",
       "      <td>0.775601</td>\n",
       "    </tr>\n",
       "    <tr>\n",
       "      <th>1</th>\n",
       "      <td>Data Engineer</td>\n",
       "      <td>ecocareers</td>\n",
       "      <td>DATA ENGINEER LONDON HYBRID - 3 DAYS IN THE OF...</td>\n",
       "      <td>London, England, United Kingdom</td>\n",
       "      <td>0.769516</td>\n",
       "    </tr>\n",
       "    <tr>\n",
       "      <th>2</th>\n",
       "      <td>Data Engineer</td>\n",
       "      <td>Adria Solutions Ltd</td>\n",
       "      <td>We are seeking a Data Engineer to join our fri...</td>\n",
       "      <td>Manchester, England, United Kingdom</td>\n",
       "      <td>0.756505</td>\n",
       "    </tr>\n",
       "    <tr>\n",
       "      <th>3</th>\n",
       "      <td>Machine Learning Engineer</td>\n",
       "      <td>Stackfix</td>\n",
       "      <td>About Us\\n\\nAt Stackfix, we’re transforming ho...</td>\n",
       "      <td>London, England, United Kingdom</td>\n",
       "      <td>0.745697</td>\n",
       "    </tr>\n",
       "    <tr>\n",
       "      <th>4</th>\n",
       "      <td>Machine Learning Engineer</td>\n",
       "      <td>Connex One</td>\n",
       "      <td>Join us in pushing the boundaries in Conversat...</td>\n",
       "      <td>Manchester Area, United Kingdom</td>\n",
       "      <td>0.742178</td>\n",
       "    </tr>\n",
       "    <tr>\n",
       "      <th>5</th>\n",
       "      <td>Artificial Intelligence Engineer</td>\n",
       "      <td>Bondex</td>\n",
       "      <td>About The Company\\n\\nWe are an early-stage (Se...</td>\n",
       "      <td>Greater Portsmouth Area</td>\n",
       "      <td>0.740576</td>\n",
       "    </tr>\n",
       "    <tr>\n",
       "      <th>6</th>\n",
       "      <td>Machine Learning Engineer - UK, Hybrid</td>\n",
       "      <td>Multiverse</td>\n",
       "      <td>We’re on a mission to provide equitable access...</td>\n",
       "      <td>London, England, United Kingdom</td>\n",
       "      <td>0.738025</td>\n",
       "    </tr>\n",
       "  </tbody>\n",
       "</table>\n",
       "</div>"
      ],
      "text/plain": [
       "                                job_title  \\\n",
       "0               Machine Learning Engineer   \n",
       "1                           Data Engineer   \n",
       "2                           Data Engineer   \n",
       "3               Machine Learning Engineer   \n",
       "4               Machine Learning Engineer   \n",
       "5        Artificial Intelligence Engineer   \n",
       "6  Machine Learning Engineer - UK, Hybrid   \n",
       "\n",
       "                               company  \\\n",
       "0  myGwork - LGBTQ+ Business Community   \n",
       "1                           ecocareers   \n",
       "2                  Adria Solutions Ltd   \n",
       "3                             Stackfix   \n",
       "4                           Connex One   \n",
       "5                               Bondex   \n",
       "6                           Multiverse   \n",
       "\n",
       "                                            job_desc  \\\n",
       "0  This inclusive employer is a member of myGwork...   \n",
       "1  DATA ENGINEER LONDON HYBRID - 3 DAYS IN THE OF...   \n",
       "2  We are seeking a Data Engineer to join our fri...   \n",
       "3  About Us\\n\\nAt Stackfix, we’re transforming ho...   \n",
       "4  Join us in pushing the boundaries in Conversat...   \n",
       "5  About The Company\\n\\nWe are an early-stage (Se...   \n",
       "6  We’re on a mission to provide equitable access...   \n",
       "\n",
       "                              location     score  \n",
       "0      London, England, United Kingdom  0.775601  \n",
       "1      London, England, United Kingdom  0.769516  \n",
       "2  Manchester, England, United Kingdom  0.756505  \n",
       "3      London, England, United Kingdom  0.745697  \n",
       "4      Manchester Area, United Kingdom  0.742178  \n",
       "5              Greater Portsmouth Area  0.740576  \n",
       "6      London, England, United Kingdom  0.738025  "
      ]
     },
     "metadata": {},
     "output_type": "display_data"
    },
    {
     "data": {
      "text/markdown": [
       "### Missing skills:\n",
       "1. Experience with cloud computing platforms such as AWS or Google Cloud\n",
       "2. Familiarity with database management systems like MySQL or MongoDB\n",
       "3. Proficiency in HTML, CSS, and JavaScript\n",
       "4. Knowledge of software development methodologies, such as Agile or Scrum\n",
       "5. Experience with data visualization tools like Tableau or Power BI\n",
       "6. Familiarity with DevOps tools and practices\n",
       "7. Understanding of Natural Language Processing (NLP) concepts and techniques\n",
       "8. Knowledge of front-end frameworks such as React or Angular\n",
       "9. Experience with version control systems like Git\n",
       "10. Understanding of data warehousing concepts and data modeling"
      ],
      "text/plain": [
       "<IPython.core.display.Markdown object>"
      ]
     },
     "metadata": {},
     "output_type": "display_data"
    }
   ],
   "source": [
    "missing_skills = job_market_assistant.get_missing_skills(\n",
    "    query_job_postings, cv_3, \"Azure Data Mining Engineer\"\n",
    ")"
   ]
  },
  {
   "cell_type": "markdown",
   "metadata": {},
   "source": [
    "## Benchmarks\n"
   ]
  },
  {
   "cell_type": "markdown",
   "metadata": {},
   "source": [
    "### Experimenting with prompts\n"
   ]
  },
  {
   "cell_type": "code",
   "execution_count": null,
   "metadata": {},
   "outputs": [],
   "source": [
    "job_market_assistant = JobMarketAssistant(\n",
    "    model=chat_gpt,\n",
    "    cover_letter_prompt=\"Write a cover letter for this job. Do not use too long and unnecessarily sophisticated words.\\n\\nMy CV:\\n{cv}\\n\\nJob Posting:\\n{job_desc}\",\n",
    "    job_title_prompt=\"Summarize the job title based on the following CV in maximum 10 words:\\n\\n{cv}\\n\\nProvide only the job title as plain text without any quotes and punctuation.\",\n",
    "    key_points_prompt=\"Job Posting:\\n\\n{job_desc}\\n\\nGenerate key points from these job posting (focus on skils and requirements) sorted from the most important to the least?\",\n",
    "    missing_skills_prompt=\"This is my CV:\\n\\n{cv}\\n\\nReturn me list of skills that I should learn and I don't have in my CV to become more employable for jobs with requirements listed below sorted from the most important to the least. The list has to be in Markdown format. Job postings:\\n\\n\",\n",
    ")\n",
    "\n",
    "\n",
    "cover_letter = job_market_assistant.get_cover_letter(file_job_postings.iloc[0], cv_1)\n",
    "\n",
    "missing_skills = job_market_assistant.get_missing_skills(file_job_postings, cv_1)"
   ]
  },
  {
   "cell_type": "markdown",
   "metadata": {},
   "source": [
    "### Model stability and execution time\n"
   ]
  },
  {
   "cell_type": "markdown",
   "metadata": {},
   "source": [
    "#### ChatGPT\n"
   ]
  },
  {
   "cell_type": "code",
   "execution_count": 10,
   "metadata": {},
   "outputs": [
    {
     "ename": "NameError",
     "evalue": "name 'cv_1' is not defined",
     "output_type": "error",
     "traceback": [
      "\u001b[0;31m---------------------------------------------------------------------------\u001b[0m",
      "\u001b[0;31mNameError\u001b[0m                                 Traceback (most recent call last)",
      "Cell \u001b[0;32mIn[10], line 13\u001b[0m\n\u001b[1;32m      2\u001b[0m start_time \u001b[38;5;241m=\u001b[39m time\u001b[38;5;241m.\u001b[39mtime()\n\u001b[1;32m      4\u001b[0m job_market_assistant \u001b[38;5;241m=\u001b[39m JobMarketAssistant(\n\u001b[1;32m      5\u001b[0m     model\u001b[38;5;241m=\u001b[39mchat_gpt,\n\u001b[1;32m      6\u001b[0m     cover_letter_prompt\u001b[38;5;241m=\u001b[39m\u001b[38;5;124m\"\u001b[39m\u001b[38;5;124mWrite a cover letter for this job. Do not use too long and unnecessarily sophisticated words.\u001b[39m\u001b[38;5;130;01m\\n\u001b[39;00m\u001b[38;5;130;01m\\n\u001b[39;00m\u001b[38;5;124mMy CV:\u001b[39m\u001b[38;5;130;01m\\n\u001b[39;00m\u001b[38;5;132;01m{cv}\u001b[39;00m\u001b[38;5;130;01m\\n\u001b[39;00m\u001b[38;5;130;01m\\n\u001b[39;00m\u001b[38;5;124mJob Posting:\u001b[39m\u001b[38;5;130;01m\\n\u001b[39;00m\u001b[38;5;132;01m{job_desc}\u001b[39;00m\u001b[38;5;124m\"\u001b[39m,\n\u001b[0;32m   (...)\u001b[0m\n\u001b[1;32m      9\u001b[0m     missing_skills_prompt\u001b[38;5;241m=\u001b[39m\u001b[38;5;124m\"\u001b[39m\u001b[38;5;124mThis is my CV:\u001b[39m\u001b[38;5;130;01m\\n\u001b[39;00m\u001b[38;5;130;01m\\n\u001b[39;00m\u001b[38;5;132;01m{cv}\u001b[39;00m\u001b[38;5;130;01m\\n\u001b[39;00m\u001b[38;5;130;01m\\n\u001b[39;00m\u001b[38;5;124mReturn me list of skills that I should learn and I don\u001b[39m\u001b[38;5;124m'\u001b[39m\u001b[38;5;124mt have in my CV to become more employable for jobs with requirements listed below sorted from the most important to the least. The list has to be in Markdown format. Job postings:\u001b[39m\u001b[38;5;130;01m\\n\u001b[39;00m\u001b[38;5;130;01m\\n\u001b[39;00m\u001b[38;5;124m\"\u001b[39m,\n\u001b[1;32m     10\u001b[0m )\n\u001b[1;32m     12\u001b[0m cover_letter \u001b[38;5;241m=\u001b[39m job_market_assistant\u001b[38;5;241m.\u001b[39mget_cover_letter(\n\u001b[0;32m---> 13\u001b[0m     file_job_postings\u001b[38;5;241m.\u001b[39miloc[\u001b[38;5;241m0\u001b[39m], \u001b[43mcv_1\u001b[49m\n\u001b[1;32m     14\u001b[0m )\n\u001b[1;32m     16\u001b[0m missing_skills \u001b[38;5;241m=\u001b[39m job_market_assistant\u001b[38;5;241m.\u001b[39mget_missing_skills(file_job_postings, cv_1)\n\u001b[1;32m     18\u001b[0m display(Markdown(\u001b[38;5;124mf\u001b[39m\u001b[38;5;124m\"\u001b[39m\u001b[38;5;124m##### Execution time: \u001b[39m\u001b[38;5;132;01m{\u001b[39;00mtime\u001b[38;5;241m.\u001b[39mtime()\u001b[38;5;250m \u001b[39m\u001b[38;5;241m-\u001b[39m\u001b[38;5;250m \u001b[39mstart_time\u001b[38;5;132;01m}\u001b[39;00m\u001b[38;5;124m seconds\u001b[39m\u001b[38;5;124m\"\u001b[39m))\n",
      "\u001b[0;31mNameError\u001b[0m: name 'cv_1' is not defined"
     ]
    }
   ],
   "source": [
    "for _ in range(3):\n",
    "    start_time = time.time()\n",
    "\n",
    "    job_market_assistant = JobMarketAssistant(\n",
    "        model=chat_gpt,\n",
    "        cover_letter_prompt=\"Write a cover letter for this job. Do not use too long and unnecessarily sophisticated words.\\n\\nMy CV:\\n{cv}\\n\\nJob Posting:\\n{job_desc}\",\n",
    "        job_title_prompt=\"Summarize the job title based on the following CV in maximum 10 words:\\n\\n{cv}\\n\\nProvide only the job title as plain text without any quotes and punctuation.\",\n",
    "        key_points_prompt=\"Job Posting:\\n\\n{job_desc}\\n\\nGenerate key points from these job posting (focus on skils and requirements) sorted from the most important to the least?\",\n",
    "        missing_skills_prompt=\"This is my CV:\\n\\n{cv}\\n\\nReturn me list of skills that I should learn and I don't have in my CV to become more employable for jobs with requirements listed below sorted from the most important to the least. The list has to be in Markdown format. Job postings:\\n\\n\",\n",
    "    )\n",
    "\n",
    "    cover_letter = job_market_assistant.get_cover_letter(\n",
    "        file_job_postings.iloc[0], cv_1\n",
    "    )\n",
    "\n",
    "    missing_skills = job_market_assistant.get_missing_skills(file_job_postings, cv_1)\n",
    "\n",
    "    display(Markdown(f\"##### Execution time: {time.time() - start_time} seconds\"))"
   ]
  },
  {
   "cell_type": "markdown",
   "metadata": {},
   "source": [
    "#### Gemini\n"
   ]
  },
  {
   "cell_type": "markdown",
   "metadata": {},
   "source": [
    "#### Llama\n"
   ]
  }
 ],
 "metadata": {
  "kernelspec": {
   "display_name": "Python 3",
   "language": "python",
   "name": "python3"
  },
  "language_info": {
   "codemirror_mode": {
    "name": "ipython",
    "version": 3
   },
   "file_extension": ".py",
   "mimetype": "text/x-python",
   "name": "python",
   "nbconvert_exporter": "python",
   "pygments_lexer": "ipython3",
   "version": "3.10.12"
  }
 },
 "nbformat": 4,
 "nbformat_minor": 2
}
