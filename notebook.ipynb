{
 "cells": [
  {
   "cell_type": "markdown",
   "metadata": {},
   "source": [
    "# Job Market Assistant\n",
    "\n",
    "TODO: description\n"
   ]
  },
  {
   "cell_type": "code",
   "execution_count": 9,
   "metadata": {},
   "outputs": [],
   "source": [
    "from IPython.display import Markdown\n",
    "import time\n",
    "from core.models import ChatGPT, Gemini, Llama\n",
    "from core.job_market_assistant import JobMarketAssistant\n",
    "import pandas as pd"
   ]
  },
  {
   "cell_type": "markdown",
   "metadata": {},
   "source": [
    "## Framework\n",
    "\n",
    "Our class-based structure allows to encapsulate reused code and perform experiments easily by adding new models and altering the prompts.\n"
   ]
  },
  {
   "cell_type": "markdown",
   "metadata": {},
   "source": [
    "All the models have to implement _complete_ method. With parameter _debug_ set to _True_ all the querying history is visible.\n"
   ]
  },
  {
   "cell_type": "code",
   "execution_count": 4,
   "metadata": {},
   "outputs": [
    {
     "name": "stdout",
     "output_type": "stream",
     "text": [
      ">>> ChatGPT: Hello Chat!\n",
      "ChatGPT >>>: Hello there! How are you doing today?\n"
     ]
    }
   ],
   "source": [
    "debug_chat_gpt = ChatGPT(True)\n",
    "completion = debug_chat_gpt.complete(\"Hello Chat!\")"
   ]
  },
  {
   "cell_type": "markdown",
   "metadata": {},
   "source": [
    "The system uses 5 different prompts each serving unique purpose and having a distinct set of available parameters:\n",
    "\n",
    "| Method             | Used prompt           | Purpose                                                                   | Parameters                             |\n",
    "| ------------------ | --------------------- | ------------------------------------------------------------------------- | -------------------------------------- |\n",
    "| get_cover_letter   | cover_letter_prompt   | Generate a cover letter.                                                  | job_desc, cv                           |\n",
    "| get_missing_skills | dream_job_prompt      | Generate a title of the dream job from the CV if not provided explicitely | cv                                     |\n",
    "| get_missing_skills | key_points_prompt     | Summarize key points for a position.                                      | job_title, company, job_desc, location |\n",
    "| get_missing_skills | missing_skills_prompt | Identify skills gaps.                                                     | cv, key_points                         |\n",
    "| get_missing_skills | postprocess_prompt    | Further refine the result of Missing Skills prompt                        | missing_skills                         |\n"
   ]
  },
  {
   "cell_type": "code",
   "execution_count": 2,
   "metadata": {},
   "outputs": [],
   "source": [
    "chat_gpt = ChatGPT()\n",
    "\n",
    "job_market_assistant = JobMarketAssistant(\n",
    "    model=chat_gpt,\n",
    "    cover_letter_prompt=\"Write a cover letter for this job. Do not use too long and unnecessarily sophisticated words.\\n\\nMy CV:\\n{cv}\\n\\nJob Posting:\\n{job_desc}\",\n",
    "    dream_job_prompt=\"Summarize the job title based on the following CV in maximum 10 words:\\n\\n{cv}\\n\\nProvide only the job title as plain text without any quotes and punctuation.\",\n",
    "    key_points_prompt=\"Job Posting:\\n\\n{job_desc}\\n\\nGenerate key points from these job posting (focus on skils and requirements) sorted from the most important to the least?\",\n",
    "    missing_skills_prompt=\"This is my CV:\\n\\n{cv}\\n\\nReturn me list of skills that I should learn and I don't have in my CV to become more employable for jobs with requirements listed below sorted from the most important to the least. The list has to be in Markdown format. Job postings:\\n\\n\",\n",
    "    postprocess_prompt=\"Deduplicate the following list of skills and limit it to 10 items: {missing_skills}\",\n",
    ")"
   ]
  },
  {
   "cell_type": "markdown",
   "metadata": {},
   "source": [
    "## Data sources\n",
    "\n",
    "Provide the scrapped job postings directly or use one of the helper methods to scrap them from LinkedIn.\n"
   ]
  },
  {
   "cell_type": "code",
   "execution_count": 3,
   "metadata": {},
   "outputs": [
    {
     "data": {
      "text/html": [
       "<div>\n",
       "<style scoped>\n",
       "    .dataframe tbody tr th:only-of-type {\n",
       "        vertical-align: middle;\n",
       "    }\n",
       "\n",
       "    .dataframe tbody tr th {\n",
       "        vertical-align: top;\n",
       "    }\n",
       "\n",
       "    .dataframe thead th {\n",
       "        text-align: right;\n",
       "    }\n",
       "</style>\n",
       "<table border=\"1\" class=\"dataframe\">\n",
       "  <thead>\n",
       "    <tr style=\"text-align: right;\">\n",
       "      <th></th>\n",
       "      <th>job_title</th>\n",
       "      <th>company</th>\n",
       "      <th>job_desc</th>\n",
       "      <th>location</th>\n",
       "    </tr>\n",
       "  </thead>\n",
       "  <tbody>\n",
       "    <tr>\n",
       "      <th>39</th>\n",
       "      <td>Applied Data Scientist</td>\n",
       "      <td>dunnhumby</td>\n",
       "      <td>dunnhumby is the global leader in Customer Dat...</td>\n",
       "      <td>London, England, United Kingdom</td>\n",
       "    </tr>\n",
       "    <tr>\n",
       "      <th>47</th>\n",
       "      <td>Data Scientist</td>\n",
       "      <td>Builder.ai</td>\n",
       "      <td>Description\\n\\nAbout Builder.ai\\n\\nWe’re on a ...</td>\n",
       "      <td>London, England, United Kingdom</td>\n",
       "    </tr>\n",
       "    <tr>\n",
       "      <th>267</th>\n",
       "      <td>Machine Learning Engineer - ML Ops</td>\n",
       "      <td>Builder.ai</td>\n",
       "      <td>Description\\n\\nAbout Builder.ai\\n\\nWe’re on a ...</td>\n",
       "      <td>London, England, United Kingdom</td>\n",
       "    </tr>\n",
       "    <tr>\n",
       "      <th>147</th>\n",
       "      <td>Software Development Engineer, Caching</td>\n",
       "      <td>myGwork - LGBTQ+ Business Community</td>\n",
       "      <td>This inclusive employer is a member of myGwork...</td>\n",
       "      <td>Dublin, County Dublin, Ireland</td>\n",
       "    </tr>\n",
       "    <tr>\n",
       "      <th>265</th>\n",
       "      <td>Machine Learning Engineer</td>\n",
       "      <td>Stackfix</td>\n",
       "      <td>About Us\\n\\nAt Stackfix, we’re transforming ho...</td>\n",
       "      <td>London, England, United Kingdom</td>\n",
       "    </tr>\n",
       "    <tr>\n",
       "      <th>...</th>\n",
       "      <td>...</td>\n",
       "      <td>...</td>\n",
       "      <td>...</td>\n",
       "      <td>...</td>\n",
       "    </tr>\n",
       "    <tr>\n",
       "      <th>183</th>\n",
       "      <td>Sales Business Analyst</td>\n",
       "      <td>Aer Lingus</td>\n",
       "      <td>Your role\\n\\nAre you ready to make a significa...</td>\n",
       "      <td>Dublin, County Dublin, Ireland</td>\n",
       "    </tr>\n",
       "    <tr>\n",
       "      <th>20</th>\n",
       "      <td>Software Development Engineer, AWS Security Se...</td>\n",
       "      <td>myGwork - LGBTQ+ Business Community</td>\n",
       "      <td>This inclusive employer is a member of myGwork...</td>\n",
       "      <td>Dublin, County Dublin, Ireland</td>\n",
       "    </tr>\n",
       "    <tr>\n",
       "      <th>81</th>\n",
       "      <td>Application &amp; Service Engineer</td>\n",
       "      <td>Altus Group Ltd</td>\n",
       "      <td>I am pleased to announce that we are looking f...</td>\n",
       "      <td>Cork, County Cork, Ireland</td>\n",
       "    </tr>\n",
       "    <tr>\n",
       "      <th>327</th>\n",
       "      <td>Graduate Data Scientist</td>\n",
       "      <td>Worldpanel by Kantar</td>\n",
       "      <td>We’re the world’s leading data, insights, and ...</td>\n",
       "      <td>Greater London, England, United Kingdom</td>\n",
       "    </tr>\n",
       "    <tr>\n",
       "      <th>158</th>\n",
       "      <td>Data Engineer</td>\n",
       "      <td>ADLIB Recruitment | B Corp™</td>\n",
       "      <td>Be part of a unique team, bridging commercial ...</td>\n",
       "      <td>Bristol, England, United Kingdom</td>\n",
       "    </tr>\n",
       "  </tbody>\n",
       "</table>\n",
       "<p>100 rows × 4 columns</p>\n",
       "</div>"
      ],
      "text/plain": [
       "                                             job_title  \\\n",
       "39                              Applied Data Scientist   \n",
       "47                                      Data Scientist   \n",
       "267                 Machine Learning Engineer - ML Ops   \n",
       "147             Software Development Engineer, Caching   \n",
       "265                          Machine Learning Engineer   \n",
       "..                                                 ...   \n",
       "183                             Sales Business Analyst   \n",
       "20   Software Development Engineer, AWS Security Se...   \n",
       "81                      Application & Service Engineer   \n",
       "327                            Graduate Data Scientist   \n",
       "158                                      Data Engineer   \n",
       "\n",
       "                                 company  \\\n",
       "39                             dunnhumby   \n",
       "47                            Builder.ai   \n",
       "267                           Builder.ai   \n",
       "147  myGwork - LGBTQ+ Business Community   \n",
       "265                             Stackfix   \n",
       "..                                   ...   \n",
       "183                           Aer Lingus   \n",
       "20   myGwork - LGBTQ+ Business Community   \n",
       "81                       Altus Group Ltd   \n",
       "327                 Worldpanel by Kantar   \n",
       "158          ADLIB Recruitment | B Corp™   \n",
       "\n",
       "                                              job_desc  \\\n",
       "39   dunnhumby is the global leader in Customer Dat...   \n",
       "47   Description\\n\\nAbout Builder.ai\\n\\nWe’re on a ...   \n",
       "267  Description\\n\\nAbout Builder.ai\\n\\nWe’re on a ...   \n",
       "147  This inclusive employer is a member of myGwork...   \n",
       "265  About Us\\n\\nAt Stackfix, we’re transforming ho...   \n",
       "..                                                 ...   \n",
       "183  Your role\\n\\nAre you ready to make a significa...   \n",
       "20   This inclusive employer is a member of myGwork...   \n",
       "81   I am pleased to announce that we are looking f...   \n",
       "327  We’re the world’s leading data, insights, and ...   \n",
       "158  Be part of a unique team, bridging commercial ...   \n",
       "\n",
       "                                    location  \n",
       "39           London, England, United Kingdom  \n",
       "47           London, England, United Kingdom  \n",
       "267          London, England, United Kingdom  \n",
       "147           Dublin, County Dublin, Ireland  \n",
       "265          London, England, United Kingdom  \n",
       "..                                       ...  \n",
       "183           Dublin, County Dublin, Ireland  \n",
       "20            Dublin, County Dublin, Ireland  \n",
       "81                Cork, County Cork, Ireland  \n",
       "327  Greater London, England, United Kingdom  \n",
       "158         Bristol, England, United Kingdom  \n",
       "\n",
       "[100 rows x 4 columns]"
      ]
     },
     "execution_count": 3,
     "metadata": {},
     "output_type": "execute_result"
    }
   ],
   "source": [
    "file_job_postings = pd.read_feather(\"data/job_postings.feather\")\n",
    "file_job_postings"
   ]
  },
  {
   "cell_type": "code",
   "execution_count": 7,
   "metadata": {},
   "outputs": [
    {
     "data": {
      "text/html": [
       "<div>\n",
       "<style scoped>\n",
       "    .dataframe tbody tr th:only-of-type {\n",
       "        vertical-align: middle;\n",
       "    }\n",
       "\n",
       "    .dataframe tbody tr th {\n",
       "        vertical-align: top;\n",
       "    }\n",
       "\n",
       "    .dataframe thead th {\n",
       "        text-align: right;\n",
       "    }\n",
       "</style>\n",
       "<table border=\"1\" class=\"dataframe\">\n",
       "  <thead>\n",
       "    <tr style=\"text-align: right;\">\n",
       "      <th></th>\n",
       "      <th>job_title</th>\n",
       "      <th>company</th>\n",
       "      <th>job_desc</th>\n",
       "      <th>location</th>\n",
       "    </tr>\n",
       "  </thead>\n",
       "  <tbody>\n",
       "    <tr>\n",
       "      <th>0</th>\n",
       "      <td>Machine Learning Engineer</td>\n",
       "      <td>Ampstek</td>\n",
       "      <td>Hi Professionals,Greetings From Ampstek!!Hope ...</td>\n",
       "      <td>Poland</td>\n",
       "    </tr>\n",
       "    <tr>\n",
       "      <th>1</th>\n",
       "      <td>Machine Learning Consultant</td>\n",
       "      <td>Antdata</td>\n",
       "      <td>Antdata is a data analytics company that focus...</td>\n",
       "      <td>Poznań, Wielkopolskie, Poland</td>\n",
       "    </tr>\n",
       "    <tr>\n",
       "      <th>2</th>\n",
       "      <td>Senior Data Scientist with Python and ML</td>\n",
       "      <td>Luxoft Poland</td>\n",
       "      <td>Project descriptionSuccessful candidate will b...</td>\n",
       "      <td>Poland</td>\n",
       "    </tr>\n",
       "    <tr>\n",
       "      <th>3</th>\n",
       "      <td>Senior Artificial Intelligence Engineer</td>\n",
       "      <td>Tangent</td>\n",
       "      <td>About TangentAt Tangent, we partner with large...</td>\n",
       "      <td>Poznań, Wielkopolskie, Poland</td>\n",
       "    </tr>\n",
       "    <tr>\n",
       "      <th>4</th>\n",
       "      <td>Machine Learning Researcher</td>\n",
       "      <td>RTB House</td>\n",
       "      <td>RTB House owes its market position to an advan...</td>\n",
       "      <td>Warsaw, Mazowieckie, Poland</td>\n",
       "    </tr>\n",
       "    <tr>\n",
       "      <th>5</th>\n",
       "      <td>AI Engineer</td>\n",
       "      <td>Opera</td>\n",
       "      <td>Location: Wrocław, PolandAbout the job We are ...</td>\n",
       "      <td>Wrocław, Dolnośląskie, Poland</td>\n",
       "    </tr>\n",
       "    <tr>\n",
       "      <th>6</th>\n",
       "      <td>AI Developer with Python</td>\n",
       "      <td>Rockwell Automation</td>\n",
       "      <td>Rockwell Automation is a global technology lea...</td>\n",
       "      <td>Katowice, Śląskie, Poland</td>\n",
       "    </tr>\n",
       "    <tr>\n",
       "      <th>7</th>\n",
       "      <td>Machine Learning Engineer</td>\n",
       "      <td>Devoteam G Cloud</td>\n",
       "      <td>Company DescriptionDevoteam, a group of 8000+ ...</td>\n",
       "      <td>Warsaw, Mazowieckie, Poland</td>\n",
       "    </tr>\n",
       "    <tr>\n",
       "      <th>8</th>\n",
       "      <td>Generative AI Engineer</td>\n",
       "      <td>Seargin</td>\n",
       "      <td>As a dynamic multinational tech company operat...</td>\n",
       "      <td>Poland</td>\n",
       "    </tr>\n",
       "    <tr>\n",
       "      <th>9</th>\n",
       "      <td>AIMl GenAI Manager</td>\n",
       "      <td>EY</td>\n",
       "      <td>AIML GenAI ManagerLet us introduce you the job...</td>\n",
       "      <td>Wrocław, Dolnośląskie, Poland</td>\n",
       "    </tr>\n",
       "  </tbody>\n",
       "</table>\n",
       "</div>"
      ],
      "text/plain": [
       "                                  job_title              company  \\\n",
       "0                 Machine Learning Engineer              Ampstek   \n",
       "1               Machine Learning Consultant              Antdata   \n",
       "2  Senior Data Scientist with Python and ML        Luxoft Poland   \n",
       "3   Senior Artificial Intelligence Engineer              Tangent   \n",
       "4               Machine Learning Researcher            RTB House   \n",
       "5                               AI Engineer                Opera   \n",
       "6                  AI Developer with Python  Rockwell Automation   \n",
       "7                 Machine Learning Engineer     Devoteam G Cloud   \n",
       "8                    Generative AI Engineer              Seargin   \n",
       "9                        AIMl GenAI Manager                   EY   \n",
       "\n",
       "                                            job_desc  \\\n",
       "0  Hi Professionals,Greetings From Ampstek!!Hope ...   \n",
       "1  Antdata is a data analytics company that focus...   \n",
       "2  Project descriptionSuccessful candidate will b...   \n",
       "3  About TangentAt Tangent, we partner with large...   \n",
       "4  RTB House owes its market position to an advan...   \n",
       "5  Location: Wrocław, PolandAbout the job We are ...   \n",
       "6  Rockwell Automation is a global technology lea...   \n",
       "7  Company DescriptionDevoteam, a group of 8000+ ...   \n",
       "8  As a dynamic multinational tech company operat...   \n",
       "9  AIML GenAI ManagerLet us introduce you the job...   \n",
       "\n",
       "                        location  \n",
       "0                         Poland  \n",
       "1  Poznań, Wielkopolskie, Poland  \n",
       "2                         Poland  \n",
       "3  Poznań, Wielkopolskie, Poland  \n",
       "4    Warsaw, Mazowieckie, Poland  \n",
       "5  Wrocław, Dolnośląskie, Poland  \n",
       "6      Katowice, Śląskie, Poland  \n",
       "7    Warsaw, Mazowieckie, Poland  \n",
       "8                         Poland  \n",
       "9  Wrocław, Dolnośląskie, Poland  "
      ]
     },
     "execution_count": 7,
     "metadata": {},
     "output_type": "execute_result"
    }
   ],
   "source": [
    "job_posting_urls = (\n",
    "    \"https://www.linkedin.com/jobs/view/3937215366/?alternateChannel=search&refId=pyO8PX6NFy5hyGNWQ5uRxQ%3D%3D&trackingId=aNQSGBRWWobujlSYEpbvaQ%3D%3D\",\n",
    "    \"https://www.linkedin.com/jobs/view/3931218091/?alternateChannel=search&refId=%2BwGMIZDUEBj8w%2BcBBmKX0g%3D%3D&trackingId=MKGRxpSmYvT7yYfc0vnezg%3D%3D\",\n",
    "    \"https://www.linkedin.com/jobs/view/3939354205/?alternateChannel=search&refId=jzm6ENFRWaolwGXJgicMTw%3D%3D&trackingId=Ryft9wMmyemu5LZP3YMVkQ%3D%3D&trk=d_flagship3_search_srp_jobs\",\n",
    "    \"https://www.linkedin.com/jobs/view/3933974972/?alternateChannel=search&refId=jzm6ENFRWaolwGXJgicMTw%3D%3D&trackingId=Nf75Lj8H45f%2F3Wn0YZWGow%3D%3D&trk=d_flagship3_search_srp_jobs\",\n",
    "    \"https://www.linkedin.com/jobs/view/3706100131/?eBP=CwEAAAGP2nLSS1cVH9CpQXLJCQYoBELJe_DMnb_FF0wnPFmYKZ8RevBvThpD_ekhE_mtBIX8fy5hK5ayxs7uQI8M551BR4OaZ0Vk6wIa_yi-E6P_orjzE4PKlU6nMCHwWnQoskuS4a0jCI8057qk3wYLKiI8pZ_mITVGGc_tOrpA5WVKMj_Zeoa44P2nxT1vJ1KUFmyeIiSBOAnIdhZu4fTCqmELBiPkEAD5eKftXGAuDr3pbYOWdt3TZ9lCMf-xY0rQGFaYih57c03_fADVuhjZygq2VkyoJpNIwGj_5INh7nT_fjMLCs_1POakqPL3o3-H7t2RAdFyjMtjYZ0D3_2500LfftGIcnS0Rrjl9Xss1xgu1HcRoGWs-Yx0hkoolePWe-KCNgbczGhVVMQkW3TEwVYwNmq-5ucGIuEvbNhqYo9H2th1MA7NLumAVxtEIWH6IK8TLe7JiAhf8VBblyQm2RgHaZTO&refId=ejemPX0qrd8qnaCrjBlNWw%3D%3D&trackingId=nRFdwwj3o5%2B%2B7KFMCCFo1w%3D%3D&trk=flagship3_search_srp_jobs\",\n",
    "    \"https://www.linkedin.com/jobs/view/3926449844/?eBP=CwEAAAGP2nOgU8_sfnyPI_cLUth9VbgP3dIs3RClQtIwUPjlvFsnHuQAiIaEqWo-DXN0PMr8OSoQIj3obkACHeuwBugF67GnD_Z_IL8WkR2I8yAYJM3taMePkxBmPwI2zsd6facjFtS8XDaha22A0tXYebVPQscG8pvSd5vZSzyVY3r4GN9iBpOrZsgnD6Ql3f-o0NpW4H_Ea-GRZoVD5abwhA_FkiQjPW1_JL_b-MXYWhVlPXImXCYdh2s86zuIfyhmxYCto6nfZoLqgBGfNGa_g5NXMP7cF4tj57CaZxE2Bm22qe_vCdTfkUoiwWNVUa3rSEEtzB49dimLquOca5B2-Sa8IsYSJFTcpWw4GOInhexoSnI-Uawuu1AH_BBLQ-NqGXSAmpoIpbQKtCSID8PnSgUTJx_k4htjYF7FrG7ciSLAhVULZSLkCQ-UNYj9ubHhOzjuGpE1zvNnNKflzOLkmpXUiMg5USw&refId=NB7IjF%2F4NI3gjXiPX1PlkQ%3D%3D&trackingId=D9AGbek05Cnb7pxMYxiqpg%3D%3D&trk=flagship3_search_srp_jobs\",\n",
    "    \"https://www.linkedin.com/jobs/view/3904363506/?eBP=CwEAAAGP2nOgU4zBnhBLcSx9mV0FYGVGgNyQ1sxXETXxVxPVFk53FLqXR9gH9f4U2Nqac6fmAWSBzAAnCbbBO-YY8F0YdhOwtuIQY01HY_W4sWI49I8PJP6pBSKCHPSDOj4lmCGZlDuy8LguqiBqKKAvNjUMPRw6yWT83z-Xo4YwNA62ju020hTZ-YFlK-WATuOZGhVoK0iwbySo89vy-cf2j5ZP7vpLrArpWUtzjNrGCItD_qOoCubYiF_93A_axtk8RkbmwmTIxL7AOl5Ql_veoGeNXdfdiw5wDLiGZBwp1lxvOIFiC_X7655cFQqm5jhB8p7jg8bRSYKSwbawikJntoTMDxs6TpvqjYHnbsT9xKaaPOpgDes3A4U3JONRtNa5S9y_-C3v9QWMC1DwwuPAqcETf7Llf47r4Npo-dxM17YgHj3FQicUzkI8wYSKpmzU0uK44dASHScYXwN5TWVX3pZxqEprZNY&refId=NB7IjF%2F4NI3gjXiPX1PlkQ%3D%3D&trackingId=vI35XF233bfRnGy6BAE%2FSQ%3D%3D&trk=flagship3_search_srp_jobs\",\n",
    "    \"https://www.linkedin.com/jobs/view/3910213820/?eBP=CwEAAAGP2nOgU4o3HMYGtDJlo8CcLUUFwd-jc9D9_hbJ5mLrtYZcutRbb5mRXvtMJ1Ig92XZ0FOxY5SkMcrAfg3VK1tY1JObDFpgTe_y9Y7iNKbX94lMzuYnYBJn21Eeymf77lmdICyU6QH-yPQbdcf33E72AC_xt7EBxnpOv9M0sGXqJc11puvSVQGbXpW5W5Sbbsv6QTzs9FxlovRKu6pEPDCCVzjrHrC9d_gOylePjmUOnabDFkppFa3gbB8zh_il2KSTYB_lhCtl1Kxi-5y0NcsECFB5OR5KFUr0npWo7btVAewY5QBeyUFcbcX2O9pXjVdImXT40xQBaQbIUbZXEZeSEaFroWyIc-kB8FzaKMlLmIK5ezXmgfdGx_f10lWV_9xSFVlvaWI1MeG5adcsO0fTM2fY0ucITXYFS2qbispOnegSv3cS_p4WqGTNkLxg_Nxjr8ppKq8HMMZud8dppz5Izp2lOyg&refId=NB7IjF%2F4NI3gjXiPX1PlkQ%3D%3D&trackingId=1OHZffvErAg6ayGGSMaGSQ%3D%3D&trk=flagship3_search_srp_jobs\",\n",
    "    \"https://www.linkedin.com/jobs/view/3934612685/?eBP=CwEAAAGP2nOgUxurolZNvR-9t8O15gg8Hg73vyxdiM7INtIvQbruj1Lad7exeumIa4mrXe73RR3QJ3t-RkVakkFZqmPBu1QNpw4oyXWLO0A0d7RG_uAQJ0YJCdq34tT2c50_4HPgem5RvZ0Q_KcjsPUZuVDkiy0i5xxjusB-K9fzpJ1kHeoLJVsY4-Hdgjrd8hdvpQ6XwtPErHWtPsHmaBPgMvJfGw22Nu_SW6Or4WeOmLmaBroXMpeJGuVz7UqETkN7ro6h77j_Rsi25h8wYeL7S-NY6zlt5HCltq-cIXuFW_kpQ_FXPqHvnKuXkKpKchCBqgCSa3AUTCEaNF60I50pHS9xNHnhro0RaMODYkEAB1YhKBDLW_JY_qWIORfrs48oEWG5HCt_yCwEQCzO6ydupfJkjLOgCjEpOc3wFSMK6knh7yySP4zbSOArdmbPkMsaTTvgFHCG3loj9FRN49Dbrl5RFd1C3rg&refId=NB7IjF%2F4NI3gjXiPX1PlkQ%3D%3D&trackingId=xDb049gA1gGIWmWSmZ6jfg%3D%3D&trk=flagship3_search_srp_jobs\",\n",
    "    \"https://www.linkedin.com/jobs/view/3903916300/?eBP=CwEAAAGP2nWWOL08uhH7U-M5C0J0CphPf6gFN4SMMBAXxYf-YdOwMoRtXj0UBwSmzeTRcrgSE8fpf7yZ0xy0_rHcDoJxAtbx85i8FJ3WTzcEZNK18GYnCtNn8U_b7hhNTFgf3gJzXUEOtrn8L_uuthw7xG5LbY9Oro9myJvJKd2bZ84weNcA4EgTLVJ45AFVin1GecDXOkbJgXKf6pvqpQbBy_Fe8gxbM_A3ZJT6JrXKURhLempoczh7uTTM25y9ybmBJqnm7YjLTGRMy7DwoNIY6oZnVHWY_i04y5MPCDcGOVhn9bALuQ6s1XKZ6AsjEKbT3ytRKd2Q0LZnr7RSkfbk4LNYPtjKgQsVclC8Gao4t6-R76JebQn3GH65RNJr3zxogrDJk4OglgcaeasAou45tdfpBEj4l30DyYWUXcYqxNfsQxDlPaLGqEg30XR9bwKc8Kr57RFZ_16v5SccL6vYQoPO2g&refId=eGb0QUUekOjgqRmAiPqWmQ%3D%3D&trackingId=WfffkrTIdiq6gzEV2lzO5w%3D%3D&trk=flagship3_search_srp_jobs\",\n",
    ")\n",
    "\n",
    "url_job_postings = JobMarketAssistant.scrap_job_postings_from_linkedin(job_posting_urls)\n",
    "url_job_postings"
   ]
  },
  {
   "cell_type": "markdown",
   "metadata": {},
   "source": [
    "CVs have to be provided as plain text.\n"
   ]
  },
  {
   "cell_type": "code",
   "execution_count": 4,
   "metadata": {},
   "outputs": [],
   "source": [
    "cv_1 = None\n",
    "with open(\"data/cv_1.txt\", \"r\") as file:\n",
    "    cv_1 = file.read()\n",
    "\n",
    "cv_2 = None\n",
    "with open(\"data/cv_3.txt\", \"r\") as file:\n",
    "    cv_2 = file.read()\n",
    "\n",
    "cv_3 = None\n",
    "with open(\"data/cv_3.txt\", \"r\") as file:\n",
    "    cv_3 = file.read()"
   ]
  },
  {
   "cell_type": "markdown",
   "metadata": {},
   "source": [
    "## Available methods\n"
   ]
  },
  {
   "cell_type": "code",
   "execution_count": 5,
   "metadata": {},
   "outputs": [
    {
     "data": {
      "text/markdown": [
       "### Cover letter for Applied Data Scientist:\n",
       "[Your Name]\n",
       "[Address]\n",
       "[City, State ZIP Code]\n",
       "[Email Address]\n",
       "[Today’s Date]\n",
       "\n",
       "[Employer’s Name]\n",
       "[Company Name]\n",
       "[Address]\n",
       "[City, State ZIP Code]\n",
       "\n",
       "Dear [Employer’s Name],\n",
       "\n",
       "I am writing to express my interest in the position of Applied Data Scientist at dunnhumby. As a highly motivated and skilled individual with a strong educational background and relevant work experience, I am confident that I have the necessary qualifications to contribute to your organization’s success.\n",
       "\n",
       "My educational background includes a Bachelor’s degree in Artificial Intelligence, with a focus on courses like Data Visualization, NLP, ML, DL, BigData, Information Retrieval, Computer Vision, and Data Mining. I also have technical expertise in various programming languages, including Python, C++, SQL, R, and Java, and I am proficient in MS Office and have a valid driver’s license. Additionally, my fluency in English at a B2/C1 level allows me to effectively communicate and collaborate with colleagues and clients from diverse backgrounds.\n",
       "\n",
       "I have held various positions that have allowed me to develop my skills and gain valuable experience, including my current role as a C++ Developer at CAD Projekt. I have also worked as a Cook at Prezzo and a Factory Worker at MSA Manufacturing. These experiences have honed my analytical thinking, problem-solving, and communication skills, as well as my ability to work effectively in a team environment.\n",
       "\n",
       "I am particularly drawn to dunnhumby’s mission of empowering businesses to become advocates and champions for their Customers. Your innovative use of customer data to drive business growth and your commitment to diversity and inclusion resonate strongly with me. I am also eager to join your advanced data science team and utilize my skills in machine learning and human creativity to deliver impactful solutions for clients.\n",
       "\n",
       "I am impressed by the comprehensive rewards package and the opportunity to work with cutting-edge technology that dunnhumby provides its employees. Your commitment to fostering a work-life balance for your employees through flexible working options further highlights your company’s inclusive culture.\n",
       "\n",
       "As someone who values diversity and inclusivity, I appreciate your proactive approach to accommodating the needs of all candidates throughout the recruitment process. I believe that my experience and skills align perfectly with the qualifications you are seeking, and I am confident that I will make a valuable contribution to your team.\n",
       "\n",
       "Thank you for considering my application. I look forward to the opportunity to contribute my skills and experience to dunnhumby and help drive the company’s mission forward. Please do not hesitate to contact me"
      ],
      "text/plain": [
       "<IPython.core.display.Markdown object>"
      ]
     },
     "metadata": {},
     "output_type": "display_data"
    }
   ],
   "source": [
    "cover_letter = job_market_assistant.get_cover_letter(file_job_postings.iloc[0], cv_1)"
   ]
  },
  {
   "cell_type": "code",
   "execution_count": 10,
   "metadata": {},
   "outputs": [
    {
     "name": "stderr",
     "output_type": "stream",
     "text": [
      "/home/vrepetskyi/classes/6/nlp/job-market-assistant/venv/lib/python3.10/site-packages/huggingface_hub/file_download.py:1132: FutureWarning: `resume_download` is deprecated and will be removed in version 1.0.0. Downloads always resume when possible. If you want to force a new download, use `force_download=True`.\n",
      "  warnings.warn(\n"
     ]
    },
    {
     "data": {
      "text/markdown": [
       "### Jobs best matching the dream job \"AI/ML C++ Developer\", which was derived from the CV"
      ],
      "text/plain": [
       "<IPython.core.display.Markdown object>"
      ]
     },
     "metadata": {},
     "output_type": "display_data"
    },
    {
     "data": {
      "text/html": [
       "<div>\n",
       "<style scoped>\n",
       "    .dataframe tbody tr th:only-of-type {\n",
       "        vertical-align: middle;\n",
       "    }\n",
       "\n",
       "    .dataframe tbody tr th {\n",
       "        vertical-align: top;\n",
       "    }\n",
       "\n",
       "    .dataframe thead th {\n",
       "        text-align: right;\n",
       "    }\n",
       "</style>\n",
       "<table border=\"1\" class=\"dataframe\">\n",
       "  <thead>\n",
       "    <tr style=\"text-align: right;\">\n",
       "      <th></th>\n",
       "      <th>job_title</th>\n",
       "      <th>company</th>\n",
       "      <th>job_desc</th>\n",
       "      <th>location</th>\n",
       "      <th>score</th>\n",
       "    </tr>\n",
       "  </thead>\n",
       "  <tbody>\n",
       "    <tr>\n",
       "      <th>0</th>\n",
       "      <td>AI Software Engineer (C++/GPGPU)</td>\n",
       "      <td>microTECH Global LTD</td>\n",
       "      <td>The ideal candidate will have experience and e...</td>\n",
       "      <td>Egham, England, United Kingdom</td>\n",
       "      <td>0.765772</td>\n",
       "    </tr>\n",
       "    <tr>\n",
       "      <th>1</th>\n",
       "      <td>C++ Developer (f/m/d) in Berlin and REMOTE 130...</td>\n",
       "      <td>think-cell Software</td>\n",
       "      <td>Algorithms\\n\\nthink-cell was founded on the id...</td>\n",
       "      <td>Dublin, County Dublin, Ireland</td>\n",
       "      <td>0.762482</td>\n",
       "    </tr>\n",
       "    <tr>\n",
       "      <th>2</th>\n",
       "      <td>AI Software Engineer (C++/GPGPU)</td>\n",
       "      <td>Extended Family International</td>\n",
       "      <td>6 Month Contract\\n\\nThe ideal candidate will h...</td>\n",
       "      <td>Egham, England, United Kingdom</td>\n",
       "      <td>0.762315</td>\n",
       "    </tr>\n",
       "    <tr>\n",
       "      <th>3</th>\n",
       "      <td>Machine Learning Engineer</td>\n",
       "      <td>Stackfix</td>\n",
       "      <td>About Us\\n\\nAt Stackfix, we’re transforming ho...</td>\n",
       "      <td>London, England, United Kingdom</td>\n",
       "      <td>0.753315</td>\n",
       "    </tr>\n",
       "    <tr>\n",
       "      <th>4</th>\n",
       "      <td>Machine Learning Engineer - ML Ops</td>\n",
       "      <td>Builder.ai</td>\n",
       "      <td>Description\\n\\nAbout Builder.ai\\n\\nWe’re on a ...</td>\n",
       "      <td>London, England, United Kingdom</td>\n",
       "      <td>0.752523</td>\n",
       "    </tr>\n",
       "    <tr>\n",
       "      <th>5</th>\n",
       "      <td>Machine Learning Engineer</td>\n",
       "      <td>Connex One</td>\n",
       "      <td>Join us in pushing the boundaries in Conversat...</td>\n",
       "      <td>Manchester Area, United Kingdom</td>\n",
       "      <td>0.736119</td>\n",
       "    </tr>\n",
       "    <tr>\n",
       "      <th>6</th>\n",
       "      <td>C++ Developer (f/m/d) in Berlin and REMOTE 130...</td>\n",
       "      <td>think-cell Software</td>\n",
       "      <td>Join us as a C++ Developer\\n\\n\\n\\n\\nDo you bel...</td>\n",
       "      <td>Dublin, County Dublin, Ireland</td>\n",
       "      <td>0.732527</td>\n",
       "    </tr>\n",
       "    <tr>\n",
       "      <th>7</th>\n",
       "      <td>Software Engineer (C++)</td>\n",
       "      <td>Deep Render</td>\n",
       "      <td>Deep Render is a Deep Tech startup founded to ...</td>\n",
       "      <td>London, England, United Kingdom</td>\n",
       "      <td>0.720320</td>\n",
       "    </tr>\n",
       "  </tbody>\n",
       "</table>\n",
       "</div>"
      ],
      "text/plain": [
       "                                           job_title  \\\n",
       "0                   AI Software Engineer (C++/GPGPU)   \n",
       "1  C++ Developer (f/m/d) in Berlin and REMOTE 130...   \n",
       "2                   AI Software Engineer (C++/GPGPU)   \n",
       "3                          Machine Learning Engineer   \n",
       "4                 Machine Learning Engineer - ML Ops   \n",
       "5                          Machine Learning Engineer   \n",
       "6  C++ Developer (f/m/d) in Berlin and REMOTE 130...   \n",
       "7                            Software Engineer (C++)   \n",
       "\n",
       "                         company  \\\n",
       "0           microTECH Global LTD   \n",
       "1            think-cell Software   \n",
       "2  Extended Family International   \n",
       "3                       Stackfix   \n",
       "4                     Builder.ai   \n",
       "5                     Connex One   \n",
       "6            think-cell Software   \n",
       "7                    Deep Render   \n",
       "\n",
       "                                            job_desc  \\\n",
       "0  The ideal candidate will have experience and e...   \n",
       "1  Algorithms\\n\\nthink-cell was founded on the id...   \n",
       "2  6 Month Contract\\n\\nThe ideal candidate will h...   \n",
       "3  About Us\\n\\nAt Stackfix, we’re transforming ho...   \n",
       "4  Description\\n\\nAbout Builder.ai\\n\\nWe’re on a ...   \n",
       "5  Join us in pushing the boundaries in Conversat...   \n",
       "6  Join us as a C++ Developer\\n\\n\\n\\n\\nDo you bel...   \n",
       "7  Deep Render is a Deep Tech startup founded to ...   \n",
       "\n",
       "                          location     score  \n",
       "0   Egham, England, United Kingdom  0.765772  \n",
       "1   Dublin, County Dublin, Ireland  0.762482  \n",
       "2   Egham, England, United Kingdom  0.762315  \n",
       "3  London, England, United Kingdom  0.753315  \n",
       "4  London, England, United Kingdom  0.752523  \n",
       "5  Manchester Area, United Kingdom  0.736119  \n",
       "6   Dublin, County Dublin, Ireland  0.732527  \n",
       "7  London, England, United Kingdom  0.720320  "
      ]
     },
     "metadata": {},
     "output_type": "display_data"
    },
    {
     "data": {
      "text/markdown": [
       "### Missing skills:\n",
       "1. Project management\n",
       "2. Agile methodologies\n",
       "3. Cloud computing\n",
       "4. Serverless architecture\n",
       "5. Natural language processing (NLP)\n",
       "6. Database management\n",
       "7. Data cleaning\n",
       "8. Deep learning\n",
       "9. Data visualization\n",
       "10. Web development"
      ],
      "text/plain": [
       "<IPython.core.display.Markdown object>"
      ]
     },
     "metadata": {},
     "output_type": "display_data"
    }
   ],
   "source": [
    "missing_skills = job_market_assistant.get_missing_skills(file_job_postings, cv_1)"
   ]
  },
  {
   "cell_type": "markdown",
   "metadata": {},
   "source": [
    "## Benchmarks\n",
    "\n",
    "TODO"
   ]
  },
  {
   "cell_type": "markdown",
   "metadata": {},
   "source": [
    "### Experimenting with prompts"
   ]
  },
  {
   "cell_type": "markdown",
   "metadata": {},
   "source": [
    "#### ChatGPT"
   ]
  },
  {
   "cell_type": "code",
   "execution_count": null,
   "metadata": {},
   "outputs": [],
   "source": [
    "job_market_assistant = JobMarketAssistant(\n",
    "    model=chat_gpt,\n",
    "    cover_letter_prompt=\"Write a cover letter for this job. Do not use too long and unnecessarily sophisticated words.\\n\\nMy CV:\\n{cv}\\n\\nJob Posting:\\n{job_desc}\",\n",
    "    dream_job_prompt=\"Summarize the job title based on the following CV in maximum 10 words:\\n\\n{cv}\\n\\nProvide only the job title as plain text without any quotes and punctuation.\",\n",
    "    key_points_prompt=\"Job Posting:\\n\\n{job_desc}\\n\\nGenerate key points from these job posting (focus on skils and requirements) sorted from the most important to the least?\",\n",
    "    missing_skills_prompt=\"This is my CV:\\n\\n{cv}\\n\\nReturn me list of skills that I should learn and I don't have in my CV to become more employable for jobs with requirements listed below sorted from the most important to the least. The list has to be in Markdown format. Job postings:\\n\\n\",\n",
    "    postprocess_prompt=\"Deduplicate the following list of skills and limit it to 10 items: {missing_skills}\",\n",
    ")\n",
    "\n",
    "\n",
    "cover_letter = job_market_assistant.get_cover_letter(file_job_postings.iloc[0], cv_1)\n",
    "\n",
    "missing_skills = job_market_assistant.get_missing_skills(file_job_postings, cv_1)"
   ]
  },
  {
   "cell_type": "code",
   "execution_count": null,
   "metadata": {},
   "outputs": [],
   "source": [
    "job_market_assistant = JobMarketAssistant(\n",
    "    model=chat_gpt,\n",
    "    cover_letter_prompt=\"Write a cover letter for this job. Do not use too long and unnecessarily sophisticated words.\\n\\nMy CV:\\n{cv}\\n\\nJob Posting:\\n{job_desc}\",\n",
    "    dream_job_prompt=\"Summarize the job title based on the following CV in maximum 10 words:\\n\\n{cv}\\n\\nProvide only the job title as plain text without any quotes and punctuation.\",\n",
    "    key_points_prompt=\"Job Posting:\\n\\n{job_desc}\\n\\nGenerate key points from these job posting (focus on skils and requirements) sorted from the most important to the least?\",\n",
    "    missing_skills_prompt=\"This is my CV:\\n\\n{cv}\\n\\nReturn me list of skills that I should learn and I don't have in my CV to become more employable for jobs with requirements listed below sorted from the most important to the least. The list has to be in Markdown format. Job postings:\\n\\n\",\n",
    "    postprocess_prompt=\"Deduplicate the following list of skills and limit it to 10 items: {missing_skills}\",\n",
    ")\n",
    "\n",
    "\n",
    "cover_letter = job_market_assistant.get_cover_letter(file_job_postings.iloc[0], cv_1)\n",
    "\n",
    "missing_skills = job_market_assistant.get_missing_skills(file_job_postings, cv_1)"
   ]
  },
  {
   "cell_type": "code",
   "execution_count": null,
   "metadata": {},
   "outputs": [],
   "source": [
    "job_market_assistant = JobMarketAssistant(\n",
    "    model=chat_gpt,\n",
    "    cover_letter_prompt=\"Write a cover letter for this job. Do not use too long and unnecessarily sophisticated words.\\n\\nMy CV:\\n{cv}\\n\\nJob Posting:\\n{job_desc}\",\n",
    "    dream_job_prompt=\"Summarize the job title based on the following CV in maximum 10 words:\\n\\n{cv}\\n\\nProvide only the job title as plain text without any quotes and punctuation.\",\n",
    "    key_points_prompt=\"Job Posting:\\n\\n{job_desc}\\n\\nGenerate key points from these job posting (focus on skils and requirements) sorted from the most important to the least?\",\n",
    "    missing_skills_prompt=\"This is my CV:\\n\\n{cv}\\n\\nReturn me list of skills that I should learn and I don't have in my CV to become more employable for jobs with requirements listed below sorted from the most important to the least. The list has to be in Markdown format. Job postings:\\n\\n\",\n",
    "    postprocess_prompt=\"Deduplicate the following list of skills and limit it to 10 items: {missing_skills}\",\n",
    ")\n",
    "\n",
    "\n",
    "cover_letter = job_market_assistant.get_cover_letter(file_job_postings.iloc[0], cv_1)\n",
    "\n",
    "missing_skills = job_market_assistant.get_missing_skills(file_job_postings, cv_1)"
   ]
  },
  {
   "cell_type": "markdown",
   "metadata": {},
   "source": [
    "#### Gemini"
   ]
  },
  {
   "cell_type": "markdown",
   "metadata": {},
   "source": [
    "#### Llama"
   ]
  },
  {
   "cell_type": "markdown",
   "metadata": {},
   "source": [
    "### Model stability and execution time"
   ]
  },
  {
   "cell_type": "markdown",
   "metadata": {},
   "source": [
    "#### ChatGPT"
   ]
  },
  {
   "cell_type": "code",
   "execution_count": 10,
   "metadata": {},
   "outputs": [
    {
     "data": {
      "text/markdown": [
       "### Cover letter for Applied Data Scientist:\n",
       "Dear Hiring Manager,\n",
       "\n",
       "I am writing to express my interest in the Applied Data Scientist position at dunnhumby. With a strong background in both finance and accounting, as well as artificial intelligence, I am confident that I would be a valuable addition to your team.\n",
       "\n",
       "After completing my degree in Automatics and Robotics in 2020, I decided to focus my studies on AI and completed my degree in Artificial Intelligence in 2025, with a focus on data visualization, NLP, ML, DL, BigData, Information Retrieval, Computer Vision, and Data Mining. I have also gained practical experience through my employment as a C++ Developer at CAD Projekt in Poznań. My skills in programming languages such as Python, C++, SQL, R, and Java, as well as my proficiency in MS Office and my driving license, make me well-equipped for this role.\n",
       "\n",
       "During my academic career, I have also had the opportunity to study abroad through an Erasmus program, which has enhanced my cultural awareness and ability to work with diverse teams. I am also a proud member of GHOST, an academic circle focused on AI/ML, where I have gained valuable leadership skills as a section organizer for GHOST’s conference on ML.\n",
       "\n",
       "As a data-driven company, dunnhumby’s mission to empower businesses to become advocates for their Customers resonates strongly with me. I am excited about the opportunity to apply my expertise in distilling complex problems into insightful solutions using machine learning and human creativity. Working alongside other highly skilled data scientists and challenging the status quo sounds like a rewarding and fulfilling experience.\n",
       "\n",
       "In addition to my skills and experience, I also possess strong communication skills, logical thinking, and problem-solving abilities, as well as a passion for connecting data science with the customer experience. I am confident that I would be a valuable asset in developing and deploying complex applications and components that drive meaningful impact for clients.\n",
       "\n",
       "I am impressed by dunnhumby's commitment to diversity and inclusion, and I believe in the importance of work-life balance. As such, I appreciate your dedication to providing flexible working options and creating an inclusive culture.\n",
       "\n",
       "Thank you for considering my application. I am eager to learn more about the role and how I can contribute to dunnhumby's mission. Please do not hesitate to contact me to discuss further.\n",
       "\n",
       "Sincerely,\n",
       "[Your Name]"
      ],
      "text/plain": [
       "<IPython.core.display.Markdown object>"
      ]
     },
     "metadata": {},
     "output_type": "display_data"
    },
    {
     "name": "stderr",
     "output_type": "stream",
     "text": [
      "/home/vrepetskyi/classes/6/nlp/job-market-assistant/venv/lib/python3.10/site-packages/huggingface_hub/file_download.py:1132: FutureWarning: `resume_download` is deprecated and will be removed in version 1.0.0. Downloads always resume when possible. If you want to force a new download, use `force_download=True`.\n",
      "  warnings.warn(\n"
     ]
    },
    {
     "data": {
      "text/markdown": [
       "### Postings best matching job title AI-focused C++ Developer, which was derived from the CV"
      ],
      "text/plain": [
       "<IPython.core.display.Markdown object>"
      ]
     },
     "metadata": {},
     "output_type": "display_data"
    },
    {
     "data": {
      "text/html": [
       "<div>\n",
       "<style scoped>\n",
       "    .dataframe tbody tr th:only-of-type {\n",
       "        vertical-align: middle;\n",
       "    }\n",
       "\n",
       "    .dataframe tbody tr th {\n",
       "        vertical-align: top;\n",
       "    }\n",
       "\n",
       "    .dataframe thead th {\n",
       "        text-align: right;\n",
       "    }\n",
       "</style>\n",
       "<table border=\"1\" class=\"dataframe\">\n",
       "  <thead>\n",
       "    <tr style=\"text-align: right;\">\n",
       "      <th></th>\n",
       "      <th>job_title</th>\n",
       "      <th>company</th>\n",
       "      <th>job_desc</th>\n",
       "      <th>location</th>\n",
       "      <th>score</th>\n",
       "    </tr>\n",
       "  </thead>\n",
       "  <tbody>\n",
       "    <tr>\n",
       "      <th>0</th>\n",
       "      <td>C++ Developer (f/m/d) in Berlin and REMOTE 130...</td>\n",
       "      <td>think-cell Software</td>\n",
       "      <td>Algorithms\\n\\nthink-cell was founded on the id...</td>\n",
       "      <td>Dublin, County Dublin, Ireland</td>\n",
       "      <td>0.775290</td>\n",
       "    </tr>\n",
       "    <tr>\n",
       "      <th>1</th>\n",
       "      <td>AI Software Engineer (C++/GPGPU)</td>\n",
       "      <td>microTECH Global LTD</td>\n",
       "      <td>The ideal candidate will have experience and e...</td>\n",
       "      <td>Egham, England, United Kingdom</td>\n",
       "      <td>0.764987</td>\n",
       "    </tr>\n",
       "    <tr>\n",
       "      <th>2</th>\n",
       "      <td>AI Software Engineer (C++/GPGPU)</td>\n",
       "      <td>Extended Family International</td>\n",
       "      <td>6 Month Contract\\n\\nThe ideal candidate will h...</td>\n",
       "      <td>Egham, England, United Kingdom</td>\n",
       "      <td>0.756969</td>\n",
       "    </tr>\n",
       "    <tr>\n",
       "      <th>3</th>\n",
       "      <td>C++ Developer (f/m/d) in Berlin and REMOTE 130...</td>\n",
       "      <td>think-cell Software</td>\n",
       "      <td>Join us as a C++ Developer\\n\\n\\n\\n\\nDo you bel...</td>\n",
       "      <td>Dublin, County Dublin, Ireland</td>\n",
       "      <td>0.738293</td>\n",
       "    </tr>\n",
       "    <tr>\n",
       "      <th>4</th>\n",
       "      <td>Software Engineer (C++)</td>\n",
       "      <td>Deep Render</td>\n",
       "      <td>Deep Render is a Deep Tech startup founded to ...</td>\n",
       "      <td>London, England, United Kingdom</td>\n",
       "      <td>0.734283</td>\n",
       "    </tr>\n",
       "    <tr>\n",
       "      <th>5</th>\n",
       "      <td>Artificial Intelligence Engineer</td>\n",
       "      <td>Bondex</td>\n",
       "      <td>About The Company\\n\\nWe are an early-stage (Se...</td>\n",
       "      <td>Greater Portsmouth Area</td>\n",
       "      <td>0.699809</td>\n",
       "    </tr>\n",
       "    <tr>\n",
       "      <th>6</th>\n",
       "      <td>Machine Learning Engineer</td>\n",
       "      <td>Stackfix</td>\n",
       "      <td>About Us\\n\\nAt Stackfix, we’re transforming ho...</td>\n",
       "      <td>London, England, United Kingdom</td>\n",
       "      <td>0.694832</td>\n",
       "    </tr>\n",
       "    <tr>\n",
       "      <th>7</th>\n",
       "      <td>Machine Learning Engineer - ML Ops</td>\n",
       "      <td>Builder.ai</td>\n",
       "      <td>Description\\n\\nAbout Builder.ai\\n\\nWe’re on a ...</td>\n",
       "      <td>London, England, United Kingdom</td>\n",
       "      <td>0.694573</td>\n",
       "    </tr>\n",
       "  </tbody>\n",
       "</table>\n",
       "</div>"
      ],
      "text/plain": [
       "                                           job_title  \\\n",
       "0  C++ Developer (f/m/d) in Berlin and REMOTE 130...   \n",
       "1                   AI Software Engineer (C++/GPGPU)   \n",
       "2                   AI Software Engineer (C++/GPGPU)   \n",
       "3  C++ Developer (f/m/d) in Berlin and REMOTE 130...   \n",
       "4                            Software Engineer (C++)   \n",
       "5                   Artificial Intelligence Engineer   \n",
       "6                          Machine Learning Engineer   \n",
       "7                 Machine Learning Engineer - ML Ops   \n",
       "\n",
       "                         company  \\\n",
       "0            think-cell Software   \n",
       "1           microTECH Global LTD   \n",
       "2  Extended Family International   \n",
       "3            think-cell Software   \n",
       "4                    Deep Render   \n",
       "5                         Bondex   \n",
       "6                       Stackfix   \n",
       "7                     Builder.ai   \n",
       "\n",
       "                                            job_desc  \\\n",
       "0  Algorithms\\n\\nthink-cell was founded on the id...   \n",
       "1  The ideal candidate will have experience and e...   \n",
       "2  6 Month Contract\\n\\nThe ideal candidate will h...   \n",
       "3  Join us as a C++ Developer\\n\\n\\n\\n\\nDo you bel...   \n",
       "4  Deep Render is a Deep Tech startup founded to ...   \n",
       "5  About The Company\\n\\nWe are an early-stage (Se...   \n",
       "6  About Us\\n\\nAt Stackfix, we’re transforming ho...   \n",
       "7  Description\\n\\nAbout Builder.ai\\n\\nWe’re on a ...   \n",
       "\n",
       "                          location     score  \n",
       "0   Dublin, County Dublin, Ireland  0.775290  \n",
       "1   Egham, England, United Kingdom  0.764987  \n",
       "2   Egham, England, United Kingdom  0.756969  \n",
       "3   Dublin, County Dublin, Ireland  0.738293  \n",
       "4  London, England, United Kingdom  0.734283  \n",
       "5          Greater Portsmouth Area  0.699809  \n",
       "6  London, England, United Kingdom  0.694832  \n",
       "7  London, England, United Kingdom  0.694573  "
      ]
     },
     "metadata": {},
     "output_type": "display_data"
    },
    {
     "data": {
      "text/markdown": [
       "### Missing skills:\n",
       "5. **Digital Marketing Specialist**\n",
       "- Search Engine Optimization (SEO)\n",
       "- Social Media Marketing\n",
       "- Content Creation/Copywriting\n",
       "- Email Marketing\n",
       "- Pay-Per-Click (PPC) Advertising\n",
       "- Analytics and Reporting\n",
       "- Conversion Rate Optimization\n",
       "- Marketing Automation\n",
       "\n",
       "The 10 skills are:\n",
       "\n",
       "1. Data Scientist\n",
       "2. Machine Learning\n",
       "3. Software Engineering\n",
       "4. Financial Analysis\n",
       "5. Robotics Engineering\n",
       "6. Data Visualization\n",
       "7. Web Development\n",
       "8. Accounting\n",
       "9. Digital Marketing\n",
       "10. Statistical Analysis"
      ],
      "text/plain": [
       "<IPython.core.display.Markdown object>"
      ]
     },
     "metadata": {},
     "output_type": "display_data"
    },
    {
     "data": {
      "text/markdown": [
       "### Execution time: 41.497992515563965 seconds"
      ],
      "text/plain": [
       "<IPython.core.display.Markdown object>"
      ]
     },
     "metadata": {},
     "output_type": "display_data"
    }
   ],
   "source": [
    "for _ in range(3):\n",
    "    start_time = time.time()\n",
    "\n",
    "    job_market_assistant = JobMarketAssistant(\n",
    "        model=chat_gpt,\n",
    "        cover_letter_prompt=\"Write a cover letter for this job. Do not use too long and unnecessarily sophisticated words.\\n\\nMy CV:\\n{cv}\\n\\nJob Posting:\\n{job_desc}\",\n",
    "        dream_job_prompt=\"Summarize the job title based on the following CV in maximum 10 words:\\n\\n{cv}\\n\\nProvide only the job title as plain text without any quotes and punctuation.\",\n",
    "        key_points_prompt=\"Job Posting:\\n\\n{job_desc}\\n\\nGenerate key points from these job posting (focus on skils and requirements) sorted from the most important to the least?\",\n",
    "        missing_skills_prompt=\"This is my CV:\\n\\n{cv}\\n\\nReturn me list of skills that I should learn and I don't have in my CV to become more employable for jobs with requirements listed below sorted from the most important to the least. The list has to be in Markdown format. Job postings:\\n\\n\",\n",
    "        postprocess_prompt=\"Deduplicate the following list of skills and limit it to 10 items: {missing_skills}\",\n",
    "    )\n",
    "\n",
    "    cover_letter = job_market_assistant.get_cover_letter(\n",
    "        file_job_postings.iloc[0], cv_1\n",
    "    )\n",
    "\n",
    "    missing_skills = job_market_assistant.get_missing_skills(file_job_postings, cv_1)\n",
    "\n",
    "    display(Markdown(f\"### Execution time: {time.time() - start_time} seconds\"))"
   ]
  },
  {
   "cell_type": "markdown",
   "metadata": {},
   "source": [
    "#### Gemini"
   ]
  },
  {
   "cell_type": "markdown",
   "metadata": {},
   "source": [
    "#### Llama"
   ]
  }
 ],
 "metadata": {
  "kernelspec": {
   "display_name": "Python 3",
   "language": "python",
   "name": "python3"
  },
  "language_info": {
   "codemirror_mode": {
    "name": "ipython",
    "version": 3
   },
   "file_extension": ".py",
   "mimetype": "text/x-python",
   "name": "python",
   "nbconvert_exporter": "python",
   "pygments_lexer": "ipython3",
   "version": "3.10.12"
  }
 },
 "nbformat": 4,
 "nbformat_minor": 2
}
